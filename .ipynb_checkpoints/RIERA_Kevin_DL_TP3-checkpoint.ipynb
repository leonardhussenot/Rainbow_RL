{
 "cells": [
  {
   "cell_type": "markdown",
   "metadata": {},
   "source": [
    "**You may need to install [OpenCV](https://pypi.python.org/pypi/opencv-python) and [scikit-video](http://www.scikit-video.org/stable/).**"
   ]
  },
  {
   "cell_type": "code",
   "execution_count": 1,
   "metadata": {
    "collapsed": false
   },
   "outputs": [
    {
     "name": "stderr",
     "output_type": "stream",
     "text": [
      "Using TensorFlow backend.\n"
     ]
    }
   ],
   "source": [
    "import keras\n",
    "import numpy as np\n",
    "import io\n",
    "import base64\n",
    "from IPython.display import HTML\n",
    "import skvideo.io\n",
    "import cv2\n",
    "import json\n",
    "\n",
    "from keras.models import Sequential,model_from_json\n",
    "from keras.layers.core import Dense, Flatten\n",
    "from keras.optimizers import sgd\n",
    "from keras.layers import Conv2D, MaxPooling2D, Activation, AveragePooling2D,Reshape,BatchNormalization"
   ]
  },
  {
   "cell_type": "markdown",
   "metadata": {},
   "source": [
    "# <font color=purple >Project RAINBOW"
   ]
  },
  {
   "cell_type": "markdown",
   "metadata": {},
   "source": [
    "# Context"
   ]
  },
  {
   "cell_type": "markdown",
   "metadata": {},
   "source": [
    "In a reinforcement learning algorithm, we modelize each step $t$ as an action $a_t$ obtained from a state $s_t$, i.e. $\\{(a_{t},s_{t})_{t\\leq T}\\}$ having the Markov property. We consider a discount factor $\\gamma \\in [0,1]$ that ensures convergence. The goal is to find among all the policies $\\pi$, one that maximizes the expected reward:\n",
    "\n",
    "\\begin{equation*}\n",
    "R(\\pi)=\\sum_{t\\leq T}E_{p^{\\pi}}[\\gamma^t r(s_{t},a_{t})] \\> ,\n",
    "\\end{equation*}\n",
    "\n",
    "where: \n",
    "\\begin{equation*}p^{\\pi}(a_{0},a_{1},s_{1},...,a_{T},s_{T})=p(a_{0})\\prod_{t=1}^{T}\\pi(a_{t}|s_{t})p(s_{t+1}|s_{t},a_{t}) \\> .\n",
    "\\end{equation*}\n",
    "\n",
    "We note the $Q$-function:\n",
    "\n",
    "\\begin{equation*}Q^\\pi(s,a)=E_{p^{\\pi}}[\\sum_{t\\leq T}\\gamma^{t}r(s_{t},a_{t})|s_{0}=s,a_{0}=a] \\> .\n",
    "\\end{equation*}\n",
    "\n",
    "Thus, the optimal Q function is:\n",
    "\\begin{equation*}\n",
    "Q^*(s,a)=\\max_{\\pi}Q^\\pi(s,a) \\> .\n",
    "\\end{equation*}\n",
    "\n",
    "In this project, we will apply the deep reinforcement learning techniques to a simple game: an agent will have to learn from scratch a policy that will permit it maximizing a reward."
   ]
  },
  {
   "cell_type": "markdown",
   "metadata": {},
   "source": [
    "## The environment, the agent and the game"
   ]
  },
  {
   "cell_type": "markdown",
   "metadata": {},
   "source": [
    "### The environment"
   ]
  },
  {
   "cell_type": "markdown",
   "metadata": {},
   "source": [
    "```Environment``` is an abstract class that represents the states, rewards, and actions to obtain the new state."
   ]
  },
  {
   "cell_type": "code",
   "execution_count": 2,
   "metadata": {
    "collapsed": true
   },
   "outputs": [],
   "source": [
    "class Environment(object):\n",
    "    def __init__(self):\n",
    "        pass\n",
    "\n",
    "    def act(self, act):\n",
    "        \"\"\"\n",
    "        One can act on the environment and obtain its reaction:\n",
    "        - the new state\n",
    "        - the reward of the new state\n",
    "        - should we continue the game?\n",
    "\n",
    "        :return: state, reward, game_over\n",
    "        \"\"\"\n",
    "        pass\n",
    "\n",
    "\n",
    "    def reset(self):\n",
    "        \"\"\"\n",
    "        Reinitialize the environment to a random state and returns\n",
    "        the original state\n",
    "\n",
    "        :return: state\n",
    "        \"\"\"\n",
    "        pass\n",
    "    \n",
    "    def draw(self):\n",
    "        \"\"\"\n",
    "        Visualize in the console or graphically the current state\n",
    "        \"\"\"\n",
    "        pass"
   ]
  },
  {
   "cell_type": "markdown",
   "metadata": {},
   "source": [
    "The method ```act``` allows to act on the environment at a given state $s_t$ (stored internally), via action $a_t$. The method will return the new state $s_{t+1}$, the reward $r(s_{t},a_{t})$ and determines if $t\\leq T$ (*game_over*).\n",
    "\n",
    "The method ```reset``` simply reinitializes the environment to a random state $s_0$.\n",
    "\n",
    "The method ```draw``` displays the current state $s_t$ (this is useful to check the behavior of the Agent).\n",
    "\n",
    "We modelize $s_t$ as a tensor, while $a_t$ is an integer."
   ]
  },
  {
   "cell_type": "markdown",
   "metadata": {},
   "source": [
    "### The Agent"
   ]
  },
  {
   "cell_type": "markdown",
   "metadata": {},
   "source": [
    "The goal of the ```Agent``` is to interact with the ```Environment``` by proposing actions $a_t$ obtained from a given state $s_t$ to attempt to maximize its __reward__ $r(s_t,a_t)$. We propose the following abstract class:"
   ]
  },
  {
   "cell_type": "code",
   "execution_count": 3,
   "metadata": {
    "collapsed": true
   },
   "outputs": [],
   "source": [
    "class Agent(object):\n",
    "    def __init__(self, epsilon=0.1, n_action=4):\n",
    "        self.epsilon = epsilon\n",
    "        self.n_action = n_action\n",
    "    \n",
    "    def set_epsilon(self,e):\n",
    "        self.epsilon = e\n",
    "\n",
    "    def act(self,s,train=True):\n",
    "        \"\"\" This function should return the next action to do:\n",
    "        an integer between 0 and 4 (not included) with a random exploration of epsilon\"\"\"\n",
    "        if train:\n",
    "            if np.random.rand() <= self.epsilon:\n",
    "                a = np.random.randint(0, self.n_action, size=1)[0]\n",
    "            else:\n",
    "                a = self.learned_act(s)\n",
    "        else: # in some cases, this can improve the performance.. remove it if poor performances\n",
    "            a = self.learned_act(s)\n",
    "\n",
    "        return a\n",
    "\n",
    "    def learned_act(self,s):\n",
    "        \"\"\" Act via the policy of the agent, from a given state s\n",
    "        it proposes an action a\"\"\"\n",
    "        pass\n",
    "\n",
    "    def reinforce(self, s, n_s, a, r, game_over_):\n",
    "        \"\"\" This function is the core of the learning algorithm. \n",
    "        It takes as an input the current state s_, the next state n_s_\n",
    "        the action a_ used to move from s_ to n_s_ and the reward r_.\n",
    "        \n",
    "        Its goal is to learn a policy.\n",
    "        \"\"\"\n",
    "        pass\n",
    "\n",
    "    def save(self):\n",
    "        \"\"\" This function returns basic stats if applicable: the\n",
    "        loss and/or the model\"\"\"\n",
    "        pass\n",
    "\n",
    "    def load(self):\n",
    "        \"\"\" This function allows to restore a model\"\"\"\n",
    "        pass"
   ]
  },
  {
   "cell_type": "markdown",
   "metadata": {},
   "source": [
    "***\n",
    "__Question 1__:\n",
    "Explain the function act. Why is ```epsilon``` essential?"
   ]
  },
  {
   "cell_type": "markdown",
   "metadata": {},
   "source": [
    "(you can use Markdown and Latex)"
   ]
  },
  {
   "cell_type": "markdown",
   "metadata": {},
   "source": [
    "### Answer 1\n",
    "\n",
    "The function act returns the next action to do.\n",
    "\n",
    "During training, with a probability 1-$\\epsilon$ the algorithm acts according to the learned strategy (exploitation) and with a probability $\\epsilon$ it takes a random choice (exploration). \n",
    "\n",
    "$\\epsilon$ is a trade off between exploration and exploitation. Exploration is necessary because without it there is the risk of falling into a local minima. This means that the algorithm learns a relatively good policy but does not realise that it is not optimal since it has not tested all the policies.  \n",
    "\n",
    "When testing, one do not need to continue exploring but in some cases it seems that it can still be usefull to keep and small non zero $\\epsilon$"
   ]
  },
  {
   "cell_type": "markdown",
   "metadata": {},
   "source": [
    "***\n",
    "### The Game"
   ]
  },
  {
   "cell_type": "markdown",
   "metadata": {},
   "source": [
    "The ```Agent``` and the ```Environment``` work in an interlaced way as in the following (take some time to understand this code as it is the core of the project)\n",
    "\n",
    "```python\n",
    "\n",
    "epoch = 300\n",
    "env = Environment()\n",
    "agent = Agent()\n",
    "\n",
    "\n",
    "# Number of won games\n",
    "score = 0\n",
    "loss = 0\n",
    "\n",
    "\n",
    "for e in range(epoch):\n",
    "    # At each epoch, we restart to a fresh game and get the initial state\n",
    "    state = env.reset()\n",
    "    # This assumes that the games will end\n",
    "    game_over = False\n",
    "\n",
    "    win = 0\n",
    "    lose = 0\n",
    "    \n",
    "    while not game_over:\n",
    "        # The agent performs an action\n",
    "        action = agent.act(state)\n",
    "\n",
    "        # Apply an action to the environment, get the next state, the reward\n",
    "        # and if the games end\n",
    "        prev_state = state\n",
    "        state, reward, game_over = env.act(action)\n",
    "\n",
    "        # Update the counters\n",
    "        if reward > 0:\n",
    "            win = win + reward\n",
    "        if reward < 0:\n",
    "            lose = lose -reward\n",
    "\n",
    "        # Apply the reinforcement strategy\n",
    "        loss = agent.reinforce(prev_state, state,  action, reward, game_over)\n",
    "\n",
    "    # Save as a mp4\n",
    "    if e % 10 == 0:\n",
    "        env.draw(e)\n",
    "\n",
    "    # Update stats\n",
    "    score += win-lose\n",
    "\n",
    "    print(\"Epoch {:03d}/{:03d} | Loss {:.4f} | Win/lose count {}/{} ({})\"\n",
    "          .format(e, epoch, loss, win, lose, win-lose))\n",
    "    agent.save()\n",
    "```"
   ]
  },
  {
   "cell_type": "markdown",
   "metadata": {},
   "source": [
    "# The game, *eat cheese*"
   ]
  },
  {
   "cell_type": "markdown",
   "metadata": {},
   "source": [
    "A rat runs on an island and tries to eat as much as possible. The island is subdivided into $N\\times N$ cells, in which there are cheese (+0.5) and poisonous cells (-1). The rat has a visibility of 2 cells (thus it can see $5^2$ cells). The rat is given a time $T$ to accumulate as much food as possible. It can perform 4 actions: going up, down, left, right. \n",
    "\n",
    "The goal is to code an agent to solve this task that will learn by trial and error. We propose the following environment:"
   ]
  },
  {
   "cell_type": "code",
   "execution_count": 4,
   "metadata": {
    "collapsed": true
   },
   "outputs": [],
   "source": [
    "class Environment(object):\n",
    "    def __init__(self, grid_size=10, max_time=500, temperature=0.1):\n",
    "        grid_size = grid_size+4\n",
    "        self.grid_size = grid_size\n",
    "        self.max_time = max_time\n",
    "        self.temperature = temperature\n",
    "\n",
    "        #board on which one plays\n",
    "        self.board = np.zeros((grid_size,grid_size))\n",
    "        self.position = np.zeros((grid_size,grid_size))\n",
    "\n",
    "        # coordinate of the cat\n",
    "        self.x = 0\n",
    "        self.y = 1\n",
    "\n",
    "        # self time\n",
    "        self.t = 0\n",
    "\n",
    "        self.scale=16\n",
    "\n",
    "        self.to_draw = np.zeros((max_time+2, grid_size*self.scale, grid_size*self.scale, 3))\n",
    "\n",
    "\n",
    "    def draw(self,e):\n",
    "        skvideo.io.vwrite(str(e) + '.mp4', self.to_draw)\n",
    "\n",
    "    def get_frame(self,t):\n",
    "        b = np.zeros((self.grid_size,self.grid_size,3))+128\n",
    "        b[self.board>0,0] = 256\n",
    "        b[self.board < 0, 2] = 256\n",
    "        b[self.x,self.y,:]=256\n",
    "        b[-2:,:,:]=0\n",
    "        b[:,-2:,:]=0\n",
    "        b[:2,:,:]=0\n",
    "        b[:,:2,:]=0\n",
    "        \n",
    "        b =  cv2.resize(b, None, fx=self.scale, fy=self.scale, interpolation=cv2.INTER_NEAREST)\n",
    "\n",
    "        self.to_draw[t,:,:,:]=b\n",
    "\n",
    "\n",
    "    def act(self, action):\n",
    "        \"\"\"This function returns the new state, reward and decides if the\n",
    "        game ends.\"\"\"\n",
    "\n",
    "        self.get_frame(int(self.t))\n",
    "\n",
    "        self.position = np.zeros((self.grid_size, self.grid_size))\n",
    "\n",
    "        self.position[0:2,:]= -1\n",
    "        self.position[:,0:2] = -1\n",
    "        self.position[-2:, :] = -1\n",
    "        self.position[-2:, :] = -1\n",
    "\n",
    "        self.position[self.x, self.y] = 1\n",
    "        if action == 0:\n",
    "            if self.x == self.grid_size-3:\n",
    "                self.x = self.x-1\n",
    "            else:\n",
    "                self.x = self.x + 1\n",
    "        elif action == 1:\n",
    "            if self.x == 2:\n",
    "                self.x = self.x+1\n",
    "            else:\n",
    "                self.x = self.x-1\n",
    "        elif action == 2:\n",
    "            if self.y == self.grid_size - 3:\n",
    "                self.y = self.y - 1\n",
    "            else:\n",
    "                self.y = self.y + 1\n",
    "        elif action == 3:\n",
    "            if self.y == 2:\n",
    "                self.y = self.y + 1\n",
    "            else:\n",
    "                self.y = self.y - 1\n",
    "        else:\n",
    "            RuntimeError('Error: action not recognized')\n",
    "\n",
    "        self.t = self.t + 1\n",
    "        reward = self.board[self.x, self.y]\n",
    "        self.board[self.x, self.y] = 0\n",
    "        game_over = self.t > self.max_time\n",
    "        state = np.concatenate((self.board.reshape(self.grid_size, self.grid_size,1),\n",
    "                        self.position.reshape(self.grid_size, self.grid_size,1)),axis=2)\n",
    "        state = state[self.x-2:self.x+3,self.y-2:self.y+3,:]\n",
    "\n",
    "        return state, reward, game_over\n",
    "\n",
    "    def reset(self):\n",
    "        \"\"\"This function resets the game and returns the initial state\"\"\"\n",
    "\n",
    "        self.x = np.random.randint(3, self.grid_size-3, size=1)[0]\n",
    "        self.y = np.random.randint(3, self.grid_size-3, size=1)[0]\n",
    "\n",
    "\n",
    "        bonus = 0.5*np.random.binomial(1,self.temperature,size=self.grid_size**2)\n",
    "        bonus = bonus.reshape(self.grid_size,self.grid_size)\n",
    "\n",
    "        malus = -1.0*np.random.binomial(1,self.temperature,size=self.grid_size**2)\n",
    "        malus = malus.reshape(self.grid_size, self.grid_size)\n",
    "\n",
    "        self.to_draw = np.zeros((self.max_time+2, self.grid_size*self.scale, self.grid_size*self.scale, 3))\n",
    "\n",
    "\n",
    "        malus[bonus>0]=0\n",
    "\n",
    "        self.board = bonus + malus\n",
    "\n",
    "        self.position = np.zeros((self.grid_size, self.grid_size))\n",
    "        self.position[0:2,:]= -1\n",
    "        self.position[:,0:2] = -1\n",
    "        self.position[-2:, :] = -1\n",
    "        self.position[-2:, :] = -1\n",
    "        self.board[self.x,self.y] = 0\n",
    "        self.t = 0\n",
    "\n",
    "        state = np.concatenate((\n",
    "                               self.board.reshape(self.grid_size, self.grid_size,1),\n",
    "                        self.position.reshape(self.grid_size, self.grid_size,1)),axis=2)\n",
    "\n",
    "        state = state[self.x - 2:self.x + 3, self.y - 2:self.y + 3, :]\n",
    "        return state"
   ]
  },
  {
   "cell_type": "markdown",
   "metadata": {},
   "source": [
    "The following elements are important because they correspond to the hyper parameters for this project:"
   ]
  },
  {
   "cell_type": "code",
   "execution_count": 5,
   "metadata": {
    "collapsed": true
   },
   "outputs": [],
   "source": [
    "# parameters\n",
    "size = 13\n",
    "T=500\n",
    "temperature=0.3\n",
    "epochs_train=11 # set small when debugging\n",
    "epochs_test=11 # set small when debugging\n",
    "\n",
    "# display videos\n",
    "def display_videos(name):\n",
    "    video = io.open(name, 'r+b').read()\n",
    "    encoded = base64.b64encode(video)\n",
    "    return '''<video alt=\"test\" controls>\n",
    "                <source src=\"data:video/mp4;base64,{0}\" type=\"video/mp4\" />\n",
    "             </video>'''.format(encoded.decode('ascii'))"
   ]
  },
  {
   "cell_type": "markdown",
   "metadata": {},
   "source": [
    "__Question 2__ Explain the use of the arrays ```position``` and ```board```."
   ]
  },
  {
   "cell_type": "markdown",
   "metadata": {},
   "source": []
  },
  {
   "cell_type": "markdown",
   "metadata": {},
   "source": [
    "### Answer 2\n",
    "\n",
    "The array \"board\" represents the environement. Everytime a piece of cheese deasappears for example, the modification is updated on \"board\".\n",
    "\n",
    "The array \"position\" gives the position of the rat. Some \"-1\" are used to indicate the end of the board and the position of the rat is indicated by a \"+1\"\n"
   ]
  },
  {
   "cell_type": "markdown",
   "metadata": {},
   "source": [
    "## Random Agent"
   ]
  },
  {
   "cell_type": "markdown",
   "metadata": {},
   "source": [
    "***\n",
    "__Question 3__ Implement a random Agent (only ```learned_act``` needs to be implemented):"
   ]
  },
  {
   "cell_type": "code",
   "execution_count": 6,
   "metadata": {
    "collapsed": true
   },
   "outputs": [],
   "source": [
    "class RandomAgent(Agent):\n",
    "    def __init__(self):\n",
    "        super(RandomAgent, self).__init__()\n",
    "        pass\n",
    "\n",
    "    def learned_act(self, s):\n",
    "        rand=np.random.randint(0,4)\n",
    "        return rand"
   ]
  },
  {
   "cell_type": "markdown",
   "metadata": {},
   "source": [
    "***\n",
    "***\n",
    "__Question 4__ Visualize the game moves. You need to fill in the following function for the evaluation:"
   ]
  },
  {
   "cell_type": "code",
   "execution_count": 7,
   "metadata": {
    "collapsed": true
   },
   "outputs": [],
   "source": [
    "def test(agent,env,epochs,prefix=''):\n",
    "    # Number of won games\n",
    "    score = 0\n",
    "        \n",
    "    for e in range(epochs):\n",
    "    ##### FILL IN HERE\n",
    "    # At each epoch, we restart to a fresh game and get the initial state\n",
    "        state = env.reset()\n",
    "    # This assumes that the games will end\n",
    "        game_over = False\n",
    "\n",
    "        win = 0\n",
    "        lose = 0\n",
    "\n",
    "        while not game_over:\n",
    "        # The agent performs an action\n",
    "            action = agent.act(state)\n",
    "\n",
    "        # Apply an action to the environment, get the next state, the reward\n",
    "        # and if the games end\n",
    "            prev_state = state\n",
    "            state, reward, game_over = env.act(action)\n",
    "\n",
    "        # Update the counters\n",
    "            if reward > 0:\n",
    "                win = win + reward\n",
    "            if reward < 0:\n",
    "                lose = lose -reward\n",
    "\n",
    "        # Apply the reinforcement strategy\n",
    "            loss = agent.reinforce(prev_state, state,  action, reward, game_over)\n",
    "          \n",
    "        # Save as a mp4\n",
    "        env.draw(prefix+str(e))\n",
    "\n",
    "        # Update stats\n",
    "        score = score + win-lose\n",
    "\n",
    "        print(\"Win/lose count {}/{}. Average score ({})\"\n",
    "              .format(win, lose, score/(1+e)))\n",
    "    print('Final score: '+str(score/epochs))"
   ]
  },
  {
   "cell_type": "code",
   "execution_count": 9,
   "metadata": {
    "collapsed": false
   },
   "outputs": [
    {
     "name": "stdout",
     "output_type": "stream",
     "text": [
      "Win/lose count 14.0/24.0. Average score (-10.0)\n",
      "Win/lose count 18.5/18.0. Average score (-4.75)\n",
      "Win/lose count 16.0/14.0. Average score (-2.5)\n",
      "Win/lose count 19.0/21.0. Average score (-2.375)\n",
      "Win/lose count 17.0/32.0. Average score (-4.9)\n",
      "Win/lose count 20.5/23.0. Average score (-4.5)\n",
      "Win/lose count 15.0/22.0. Average score (-4.857142857142857)\n",
      "Win/lose count 19.5/26.0. Average score (-5.0625)\n",
      "Win/lose count 19.5/19.0. Average score (-4.444444444444445)\n",
      "Win/lose count 17.5/28.0. Average score (-5.05)\n",
      "Win/lose count 22.5/30.0. Average score (-5.2727272727272725)\n",
      "Final score: -5.2727272727272725\n"
     ]
    },
    {
     "data": {
      "text/html": [
       "<video alt=\"test\" controls>\n",
       "                <source src=\"data:video/mp4;base64,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\" type=\"video/mp4\" />\n",
       "             </video>"
      ],
      "text/plain": [
       "<IPython.core.display.HTML object>"
      ]
     },
     "execution_count": 9,
     "metadata": {},
     "output_type": "execute_result"
    }
   ],
   "source": [
    "# Initialize the game\n",
    "env = Environment(grid_size=size, max_time=T,temperature=temperature)\n",
    "\n",
    "# Initialize the agent!\n",
    "agent = RandomAgent()\n",
    "\n",
    "test(agent,env,epochs_test,prefix='random')\n",
    "HTML(display_videos('random0.mp4'))"
   ]
  },
  {
   "cell_type": "markdown",
   "metadata": {},
   "source": [
    "***\n",
    "## DQN"
   ]
  },
  {
   "cell_type": "markdown",
   "metadata": {},
   "source": [
    "Let us assume here that $T=\\infty$.\n",
    "\n",
    "***\n",
    "__Question 5__ Let $\\pi$ be a policy, show that:\n",
    "\n",
    "\\begin{equation*}\n",
    "Q^{\\pi}(s,a)=E_{(s',a')\\sim p(.|s,a)}[r(s,a)+\\gamma Q^{\\pi}(s',a')]\n",
    "\\end{equation*}\n",
    "\n",
    "Then, show that for the optimal policy $\\pi^*$ (we assume its existence), the following holds: \n",
    "\n",
    "\\begin{equation*}\n",
    "Q^{*}(s,a)=E_{s'\\sim \\pi^*(.|s,a)}[r(s,a)+\\gamma\\max_{a'}Q^{*}(s',a')].\n",
    "\\end{equation*}\n",
    "Finally, deduce that a plausible objective is:\n",
    "\n",
    "\\begin{equation*}\n",
    "\\mathcal{L}(\\theta)=E_{s' \\sim \\pi^*(.|s,a)}\\Vert r+\\gamma\\max\\max_{a'}Q(s',a',\\theta)-Q(s,a,\\theta)\\Vert^{2}.\n",
    "\\end{equation*}\n",
    "\n",
    "\n"
   ]
  },
  {
   "cell_type": "markdown",
   "metadata": {},
   "source": [
    "#### Answer 5\n",
    "\n",
    "##### Question 1) \n",
    "\n",
    "\n",
    "$Q^{\\pi}(s, a) = E_{p^{\\pi}}[\\sum_{t=0}^{\\infty} \\gamma^t r(s_t, a_t)|s_0 = s, a_0 = a]$ \n",
    "\n",
    "By just separating the first term from the rest of the sum.\n",
    "\n",
    "$Q^{\\pi}(s, a) = E_{p^{\\pi}}[\\gamma^0 r(s_0, a_0) + \\sum_{t=1}^{\\infty} \\gamma^t r(s_t, a_t)|s_0 = s, a_0 = a]$\n",
    "\n",
    "By changing $t$ into $t+1$\n",
    "\n",
    "$Q^{\\pi}(s, a) = r(s, a) + \\gamma E_{p^{\\pi}}[\\sum_{t=0}^{\\infty} \\gamma^t r(s_{t+1}, a_{t+1})|s_0 = s, a_0 = a]$\n",
    "\n",
    "$Q^{\\pi}(s, a) = r(s, a) + \\gamma E_{(s_{t+1}, a_{t+1}) \\sim p^{\\pi}}[\\sum_{t=0}^{\\infty} \\gamma^t r(s_{t+1}, a_{t+1})|s_1 = s, a_1 = a]$\n",
    "\n",
    "This means that:\n",
    "\n",
    "$Q^{\\pi}(s, a) = E_{(s′,a′)\\sim p(.|s,a)}[r(s,a) + \\gamma Q^{\\pi}(s′,a′)]$\n",
    "\n",
    "where $a'_t = a_{t+1}$ and $s'_t = s_{t+1}$ \n",
    "\n",
    "\n",
    "##### Question 2)\n",
    "\n",
    "If we simply apply the previous formula to $\\pi^*$ we obtain:\n",
    "$$Q^*(s, a) = E_{(s′,a′)\\sim p(.|s,a)}[r(s,a) + \\gamma Q^*(s′,a′)]= E_{s'\\sim \\pi^*(.|s,a)}[r(s,a) + \\max_{a'}\\gamma Q^*(s′,a′)]$$\n",
    "The second equality comes from the fact that $a'$ is drawn from $(s, a)$ using the optimal policy.\n",
    "\n",
    "\n",
    "\n",
    "##### Question 3)\n",
    "\n",
    "Let us compute the difference between the tow previous expressions:\n",
    "$Q^*(s, a) - Q^{\\pi}(s, a) = E_{s'\\sim \\pi^*(.|s,a)}[r(s,a) + \\gamma \\max_{a'} Q^*(s′, a′, \\theta) - Q(s, a, \\theta)]$\n",
    "\n",
    "For any model depending on a parameter $\\theta$, it seems logical to choose it in order to minimize the following expression:\n",
    "$L(\\theta) = E_{s'\\sim \\pi^*(.|s,a)}[||r(s,a) + \\gamma \\max_{a'} Q^*(s′, a′, \\theta) - Q(s, a, \\theta)||^2]$"
   ]
  },
  {
   "cell_type": "markdown",
   "metadata": {},
   "source": []
  },
  {
   "cell_type": "markdown",
   "metadata": {},
   "source": [
    "***\n",
    "The DQN-learning algorithm relies on these derivations to train the parameters $\\theta$ of a Deep Neural Network:\n",
    "\n",
    "1. At the state $s_t$, select the action $a_t$ with best reward using $Q_t$ and store the results;\n",
    "\n",
    "2. Obtain the new state $s_{t+1}$ from the environment $p$;\n",
    "\n",
    "3. Store $(s_t,a_t,s_{t+1})$;\n",
    "\n",
    "4. Obtain $Q_{t+1}$ by minimizing  $\\mathcal{L}$ from a recovered batch from the previously stored results.\n",
    "\n",
    "***\n",
    "__Question 6__ Implement the class ```Memory``` that stores moves (in a replay buffer) via ```remember``` and provides a ```random_access``` to these. Specify a maximum memory size to avoid side effects. You can for example use a ```list()``` and set by default ```max_memory=100```."
   ]
  },
  {
   "cell_type": "code",
   "execution_count": 10,
   "metadata": {
    "collapsed": true
   },
   "outputs": [],
   "source": [
    "class Memory(object):\n",
    "    def __init__(self, max_memory=100):\n",
    "        self.max_memory = max_memory\n",
    "        self.memory = list()\n",
    "\n",
    "    def remember(self, m):\n",
    "        if len(self.memory)<self.max_memory:\n",
    "            self.memory.append(m)\n",
    "        else:\n",
    "            self.memory=self.memory[1:]\n",
    "            self.memory.append(m)\n",
    "            \n",
    "\n",
    "    def random_access(self):\n",
    "        r=np.random.randint(0,len(self.memory))\n",
    "        return self.memory[r]\n",
    "        "
   ]
  },
  {
   "cell_type": "markdown",
   "metadata": {},
   "source": [
    "***\n",
    "The pipeline we will use for training is given below:"
   ]
  },
  {
   "cell_type": "code",
   "execution_count": 11,
   "metadata": {
    "collapsed": true
   },
   "outputs": [],
   "source": [
    "def train(agent,env,epoch,prefix=''):\n",
    "    # Number of won games\n",
    "    score = 0\n",
    "    loss = 0\n",
    "\n",
    "    for e in range(epoch):\n",
    "        # At each epoch, we restart to a fresh game and get the initial state\n",
    "        state = env.reset()\n",
    "        # This assumes that the games will terminate\n",
    "        game_over = False\n",
    "\n",
    "        win = 0\n",
    "        lose = 0\n",
    "\n",
    "        while not game_over:\n",
    "            # The agent performs an action\n",
    "            action = agent.act(state)\n",
    "\n",
    "            # Apply an action to the environment, get the next state, the reward\n",
    "            # and if the games end\n",
    "            prev_state = state\n",
    "            state, reward, game_over = env.act(action)\n",
    "\n",
    "            # Update the counters\n",
    "            if reward > 0:\n",
    "                win = win + reward\n",
    "            if reward < 0:\n",
    "                lose = lose -reward\n",
    "\n",
    "            # Apply the reinforcement strategy\n",
    "            loss = agent.reinforce(prev_state, state,  action, reward, game_over)\n",
    "\n",
    "        # Save as a mp4\n",
    "        if e % 10 == 0:\n",
    "            env.draw(prefix+str(e))\n",
    "\n",
    "        # Update stats\n",
    "        score += win-lose\n",
    "\n",
    "        print(\"Epoch {:03d}/{:03d} | Loss {:.4f} | Win/lose count {}/{} ({})\"\n",
    "              .format(e, epoch, loss, win, lose, win-lose))\n",
    "        agent.save(name_weights=prefix+'model.h5',name_model=prefix+'model.json')"
   ]
  },
  {
   "cell_type": "markdown",
   "metadata": {},
   "source": [
    "***\n",
    "__Question 7__ Implement the DQN training algorithm using a cascade of fully connected layers. You can use different learning rate, batch size or memory size parameters. In particular, the loss might oscillate while the player will start to win the games. You have to find a good criterium."
   ]
  },
  {
   "cell_type": "code",
   "execution_count": 12,
   "metadata": {
    "collapsed": true
   },
   "outputs": [],
   "source": [
    "class DQN(Agent):\n",
    "    def __init__(self, grid_size,  epsilon = 0.1, memory_size=100, batch_size = 16,n_state=2):\n",
    "        super(DQN, self).__init__(epsilon = epsilon)\n",
    "\n",
    "        # Discount for Q learning\n",
    "        self.discount = 0.9\n",
    "        \n",
    "        self.grid_size = grid_size\n",
    "        \n",
    "        # number of state\n",
    "        self.n_state = n_state\n",
    "\n",
    "        # Memory\n",
    "        self.memory = Memory(memory_size)\n",
    "        \n",
    "        # Batch size when learning\n",
    "        self.batch_size = batch_size\n",
    "\n",
    "    def learned_act(self, s):\n",
    "        prediction=self.model.predict(np.array([s,]))\n",
    "        return np.argmax(prediction)\n",
    "\n",
    "    def reinforce(self, s_, n_s_, a_, r_, game_over_):\n",
    "        # Two steps: first memorize the states, second learn from the pool\n",
    "\n",
    "        self.memory.remember([s_, n_s_, a_, r_, game_over_])\n",
    "        \n",
    "        input_states = np.zeros((self.batch_size, 5,5,self.n_state))\n",
    "        target_q = np.zeros((self.batch_size, 4))\n",
    "        \n",
    "        for i in range(self.batch_size):\n",
    "            ######## FILL IN\n",
    "            [s_batch, n_s_batch, a_batch, r_batch, game_over_batch] = self.memory.random_access()\n",
    "            input_states[i] = s_batch\n",
    "            target_q[i] = self.model.predict(np.array([s_batch]))\n",
    "            if game_over_:\n",
    "                ######## FILL IN\n",
    "                target_q[i, a_batch] = r_batch\n",
    "            else:\n",
    "                ######## FILL IN\n",
    "                prediction = self.model.predict(np.array([n_s_batch]))\n",
    "                target_q[i, a_batch] = r_batch + self.discount * np.amax(prediction)\n",
    "        ######## FILL IN\n",
    "        # HINT: Clip the target to avoid exploiding gradients.. -- clipping is a bit tighter\n",
    "        target_q = np.clip(target_q, -3, 3)\n",
    "        l = self.model.train_on_batch(input_states, target_q)\n",
    "        return l\n",
    "\n",
    "\n",
    "    def save(self,name_weights='model.h5',name_model='model.json'):\n",
    "        self.model.save_weights(name_weights, overwrite=True)\n",
    "        with open(name_model, \"w\") as outfile:\n",
    "            json.dump(self.model.to_json(), outfile)\n",
    "            \n",
    "    def load(self,name_weights='model.h5',name_model='model.json'):\n",
    "        with open(name_model, \"r\") as jfile:\n",
    "            model = model_from_json(json.load(jfile))\n",
    "        model.load_weights(name_weights)\n",
    "        model.compile(\"sgd\", \"mse\")\n",
    "        self.model = model\n",
    "\n",
    "            \n",
    "class DQN_FC(DQN):\n",
    "    def __init__(self,*args,**kwargs):\n",
    "        super(DQN_FC, self).__init__( *args,**kwargs)\n",
    "        \n",
    "        # NN Model\n",
    "        \n",
    "        ####### FILL IN\n",
    "        model = Sequential() \n",
    "\n",
    "        model.add(Flatten(input_shape=(5,5,2)))\n",
    "        model.add(Dense(32)) \n",
    "        model.add(Activation('relu')) \n",
    "        \n",
    "        model.add(Dense(32)) \n",
    "        model.add(Activation('relu')) \n",
    "\n",
    "        model.add(Dense(4)) \n",
    "        model.add(Activation('relu')) \n",
    "\n",
    "        model.compile(sgd(lr=0.1, decay=1e-4, momentum=0.0), \"mse\")\n",
    "        self.model = model\n",
    "        "
   ]
  },
  {
   "cell_type": "code",
   "execution_count": 13,
   "metadata": {
    "collapsed": false
   },
   "outputs": [
    {
     "name": "stdout",
     "output_type": "stream",
     "text": [
      "Epoch 000/011 | Loss 0.0140 | Win/lose count 7.5/9.0 (-1.5)\n",
      "Epoch 001/011 | Loss 0.0125 | Win/lose count 4.0/6.0 (-2.0)\n",
      "Epoch 002/011 | Loss 0.0147 | Win/lose count 10.0/12.0 (-2.0)\n",
      "Epoch 003/011 | Loss 0.0164 | Win/lose count 8.0/12.0 (-4.0)\n",
      "Epoch 004/011 | Loss 0.0065 | Win/lose count 8.5/11.0 (-2.5)\n",
      "Epoch 005/011 | Loss 0.0126 | Win/lose count 3.5/1.0 (2.5)\n",
      "Epoch 006/011 | Loss 0.0121 | Win/lose count 7.5/5.0 (2.5)\n",
      "Epoch 007/011 | Loss 0.0118 | Win/lose count 8.5/3.0 (5.5)\n",
      "Epoch 008/011 | Loss 0.0148 | Win/lose count 6.5/5.0 (1.5)\n",
      "Epoch 009/011 | Loss 0.0066 | Win/lose count 5.5/5.0 (0.5)\n",
      "Epoch 010/011 | Loss 0.0114 | Win/lose count 10.5/6.0 (4.5)\n"
     ]
    },
    {
     "data": {
      "text/html": [
       "<video alt=\"test\" controls>\n",
       "                <source src=\"data:video/mp4;base64,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\" type=\"video/mp4\" />\n",
       "             </video>"
      ],
      "text/plain": [
       "<IPython.core.display.HTML object>"
      ]
     },
     "execution_count": 13,
     "metadata": {},
     "output_type": "execute_result"
    }
   ],
   "source": [
    "env = Environment(grid_size=size, max_time=T, temperature=0.3)\n",
    "agent = DQN_FC(size,epsilon = 0.1, memory_size=20000, batch_size = 100)\n",
    "train(agent, env, epochs_train, prefix='fc_train')\n",
    "HTML(display_videos('fc_train10.mp4'))"
   ]
  },
  {
   "cell_type": "markdown",
   "metadata": {},
   "source": [
    "***\n",
    "***\n",
    "__Question 8__ Implement the DQN training algorithm using a CNN (for example, 2 convolutional layers and one final fully connected layer)."
   ]
  },
  {
   "cell_type": "code",
   "execution_count": 58,
   "metadata": {
    "collapsed": true
   },
   "outputs": [],
   "source": [
    "class DQN_CNN(DQN):\n",
    "    def __init__(self, *args,**kwargs):\n",
    "        super(DQN_CNN, self).__init__(*args,**kwargs)\n",
    "        \n",
    "        ###### FILL IN\n",
    "        model = Sequential() \n",
    "\n",
    "        model.add(Conv2D(32, (1,1),strides=(1,1),input_shape=(5,5,self.n_state)))\n",
    "        model.add(Conv2D(16, (1,1),strides=(1,1)))\n",
    "        model.add(Flatten())\n",
    "        model.add(Dense(4)) \n",
    "        model.add(Activation('relu')) \n",
    "        \n",
    "\n",
    "        model.compile(sgd(lr=0.1, decay=1e-4, momentum=0.0), \"mse\")\n",
    "        self.model = model"
   ]
  },
  {
   "cell_type": "code",
   "execution_count": 59,
   "metadata": {
    "collapsed": false
   },
   "outputs": [
    {
     "name": "stdout",
     "output_type": "stream",
     "text": [
      "Epoch 000/011 | Loss 0.1422 | Win/lose count 9.0/12.0 (-3.0)\n",
      "Epoch 001/011 | Loss 0.1239 | Win/lose count 10.0/12.0 (-2.0)\n",
      "Epoch 002/011 | Loss 0.3133 | Win/lose count 21.0/9.0 (12.0)\n",
      "Epoch 003/011 | Loss 0.2660 | Win/lose count 14.5/6.0 (8.5)\n",
      "Epoch 004/011 | Loss 0.2491 | Win/lose count 19.5/6.0 (13.5)\n",
      "Epoch 005/011 | Loss 0.1988 | Win/lose count 12.5/3.0 (9.5)\n",
      "Epoch 006/011 | Loss 0.2052 | Win/lose count 16.5/4.0 (12.5)\n",
      "Epoch 007/011 | Loss 0.1471 | Win/lose count 20.0/7.0 (13.0)\n",
      "Epoch 008/011 | Loss 0.1834 | Win/lose count 18.0/10.0 (8.0)\n",
      "Epoch 009/011 | Loss 0.1567 | Win/lose count 24.0/13.0 (11.0)\n",
      "Epoch 010/011 | Loss 0.1953 | Win/lose count 11.0/7.0 (4.0)\n"
     ]
    },
    {
     "data": {
      "text/html": [
       "<video alt=\"test\" controls>\n",
       "                <source src=\"data:video/mp4;base64,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\" type=\"video/mp4\" />\n",
       "             </video>"
      ],
      "text/plain": [
       "<IPython.core.display.HTML object>"
      ]
     },
     "execution_count": 59,
     "metadata": {},
     "output_type": "execute_result"
    }
   ],
   "source": [
    "env = Environment(grid_size=size, max_time=T, temperature=0.3)\n",
    "agent = DQN_CNN(size, epsilon = 0.2, memory_size=20000, batch_size = 32)\n",
    "train(agent,env,epochs_train,prefix='cnn_train')\n",
    "HTML(display_videos('cnn_train10.mp4'))"
   ]
  },
  {
   "cell_type": "markdown",
   "metadata": {},
   "source": [
    "***\n",
    "***\n",
    "__Question 9__ Test both algorithms and compare their performances. Which issue(s) do you observe? Observe also different behaviors by changing the temperature."
   ]
  },
  {
   "cell_type": "code",
   "execution_count": 60,
   "metadata": {
    "collapsed": false
   },
   "outputs": [
    {
     "name": "stdout",
     "output_type": "stream",
     "text": [
      "Test of the CNN\n",
      "Win/lose count 10.5/7.0. Average score (3.5)\n",
      "Win/lose count 10.5/3.0. Average score (5.5)\n",
      "Win/lose count 9.0/7.0. Average score (4.333333333333333)\n",
      "Win/lose count 14.5/5.0. Average score (5.625)\n",
      "Win/lose count 20.5/7.0. Average score (7.2)\n",
      "Win/lose count 11.0/1.0. Average score (7.666666666666667)\n",
      "Win/lose count 13.5/2.0. Average score (8.214285714285714)\n",
      "Win/lose count 9.0/1.0. Average score (8.1875)\n",
      "Win/lose count 15.5/5.0. Average score (8.444444444444445)\n",
      "Win/lose count 11.5/5.0. Average score (8.25)\n",
      "Win/lose count 16.5/3.0. Average score (8.727272727272727)\n",
      "Final score: 8.72727272727\n",
      "Test of the FC\n",
      "Win/lose count 5.0/3.0. Average score (2.0)\n",
      "Win/lose count 2.0/3.0. Average score (0.5)\n",
      "Win/lose count 1.5/1.0. Average score (0.5)\n",
      "Win/lose count 3.0/4.0. Average score (0.125)\n",
      "Win/lose count 1.5/2.0. Average score (0.0)\n",
      "Win/lose count 1.0/11.0. Average score (-1.6666666666666667)\n",
      "Win/lose count 4.0/4.0. Average score (-1.4285714285714286)\n",
      "Win/lose count 6.0/7.0. Average score (-1.375)\n",
      "Win/lose count 2.5/8.0. Average score (-1.8333333333333333)\n",
      "Win/lose count 4.5/6.0. Average score (-1.8)\n",
      "Win/lose count 4.0/7.0. Average score (-1.9090909090909092)\n",
      "Final score: -1.90909090909\n"
     ]
    }
   ],
   "source": [
    "env = Environment(grid_size=size, max_time=T,temperature=0.3)\n",
    "agent_cnn = DQN_CNN(size, epsilon = 0.1, memory_size=20000, batch_size = 32)\n",
    "agent_cnn.load(name_weights='cnn_trainmodel.h5',name_model='cnn_trainmodel.json')\n",
    "\n",
    "agent_fc = DQN_FC(size, epsilon = 0.1, memory_size=20000, batch_size = 32)\n",
    "agent_fc.load(name_weights='fc_trainmodel.h5',name_model='fc_trainmodel.json')\n",
    "print('Test of the CNN')\n",
    "test(agent_cnn,env,epochs_test,prefix='cnn_test')\n",
    "print('Test of the FC')\n",
    "test(agent_fc,env,epochs_test,prefix='fc_test')"
   ]
  },
  {
   "cell_type": "code",
   "execution_count": 61,
   "metadata": {
    "collapsed": false
   },
   "outputs": [
    {
     "data": {
      "text/html": [
       "<video alt=\"test\" controls>\n",
       "                <source src=\"data:video/mp4;base64,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\" type=\"video/mp4\" />\n",
       "             </video>"
      ],
      "text/plain": [
       "<IPython.core.display.HTML object>"
      ]
     },
     "execution_count": 61,
     "metadata": {},
     "output_type": "execute_result"
    }
   ],
   "source": [
    "HTML(display_videos('cnn_test9.mp4'))"
   ]
  },
  {
   "cell_type": "code",
   "execution_count": 62,
   "metadata": {
    "collapsed": false
   },
   "outputs": [
    {
     "data": {
      "text/html": [
       "<video alt=\"test\" controls>\n",
       "                <source src=\"data:video/mp4;base64,AAAAIGZ0eXBpc29tAAACAGlzb21pc28yYXZjMW1wNDEAAAAIZnJlZQAAMvJtZGF0AAACrgYF//+q3EXpvebZSLeWLNgg2SPu73gyNjQgLSBjb3JlIDE0NiByMjUzOCAxMjEzOTZjIC0gSC4yNjQvTVBFRy00IEFWQyBjb2RlYyAtIENvcHlsZWZ0IDIwMDMtMjAxNSAtIGh0dHA6Ly93d3cudmlkZW9sYW4ub3JnL3gyNjQuaHRtbCAtIG9wdGlvbnM6IGNhYmFjPTEgcmVmPTMgZGVibG9jaz0xOjA6MCBhbmFseXNlPTB4MzoweDExMyBtZT1oZXggc3VibWU9NyBwc3k9MSBwc3lfcmQ9MS4wMDowLjAwIG1peGVkX3JlZj0xIG1lX3JhbmdlPTE2IGNocm9tYV9tZT0xIHRyZWxsaXM9MSA4eDhkY3Q9MSBjcW09MCBkZWFkem9uZT0yMSwxMSBmYXN0X3Bza2lwPTEgY2hyb21hX3FwX29mZnNldD00IHRocmVhZHM9MTIgbG9va2FoZWFkX3RocmVhZHM9MiBzbGljZWRfdGhyZWFkcz0wIG5yPTAgZGVjaW1hdGU9MSBpbnRlcmxhY2VkPTAgYmx1cmF5X2NvbXBhdD0wIGNvbnN0cmFpbmVkX2ludHJhPTAgYmZyYW1lcz0zIGJfcHlyYW1pZD0yIGJfYWRhcHQ9MSBiX2JpYXM9MCBkaXJlY3Q9MSB3ZWlnaHRiPTEgb3Blbl9nb3A9MCB3ZWlnaHRwPTIga2V5aW50PTI1MCBrZXlpbnRfbWluPTI1IHNjZW5lY3V0PTQwIGludHJhX3JlZnJlc2g9MCByY19sb29rYWhlYWQ9NDAgcmM9Y3JmIG1idHJlZT0xIGNyZj0yMy4wIHFjb21wPTAuNjAgcXBtaW49MCBxcG1heD02OSBxcHN0ZXA9NCBpcF9yYXRpbz0xLjQwIGFxPTE6MS4wMACAAAAC3WWIhAA3//72h/gU2VgTun/9P+C6zp85f52wATTYAUhuYKf8NTRfApLb/8CmWx5OtA8wDPSiS6bFp/iJ+/x0aXq0tOQWNfeBCfG6WTHAnINMPGs/DmYsNBPe/+h6UBPAvm9LUYuHanYtoSbEFAhgAhjBngk77EaBzFonqrbPaGfmJiwSLvqriP7VaOM+mqh9hVSKKstfb/AzvaJfk6y4Kzu0LQiLIjAuIS7yPQKQYcwI23d9tCSwwR8CE6zFHBjs0svSytIe6Z7fSjDuYl37mxuk/v3my6WpNslhXGqfyTch5gHIR6jgQ9nVe69bckUhmhw1DdA1AZTDR4XjoEGyo4+sTN8kH56URDAKTJ80dlEWtytSHrkgBb3u3ChhMxLtp3wBofD5HdvfeKoiSiWSjW4ZuhGBfeMBy1ZOAQYo+P7ouLUHSL8lNX7uKbGw+MqkISt6/HxPS/ASdRQqLLWeutU8w6O+DOffuSRe0kyIBxeIxWfQHqR25H1Y0RM2yuiI/ghtGiRluecX7Kyq17LUMewdwEjt107J+vFtq7yNUHNAO5OwnYTMm+AQ71GECTKOcWLBXZvA5/SUe1Ku56/i0x/eo4T32bvS9hi88wNY/KuuApPttO26mBpIn6xz3jMrFgqaVs6WRqo/qfDvAKi3YTB6/RIu71gRSFQkQtRu8etv6f1m2dXPUKD1ZF0j5l7TgoIgI6UNlds2GRVSpjHzEjfhOV0UFZpZz/zo7aneHDVg90g4ojj4WydJB2SKTSGMKZEhgC/5m1m6RnJpCmVEAmX0M3XyJvNTKoaAdyAkRQSflDISXS4gXOZLXBD2YBojZYmd5WqOSRTQUOZq/Z2UjmD2t/ijmshDDhgInReBw7RrL3WT2Es0bUeUISU1ho3+fodtgAcKltiaQgOIJ9k2QX00rh6Lqa4+zFdkF3QZuyfQNta33z9w1Ee8yL4YpH7WMnzsiz4Bt1xABckgETEAAAAVQZohbEN//qeEAGd9lco/MZrdCTegAAAAGEGaQjwhkymEO//+qZYAIgUc60PV98iJwQAAACxBmmZJ4Q8mUwIb//6nhABDvjp9qvNvVIN8QgL//CVEFmL//CTEfi//1/6xJAAAABNBnoRFETwv/wAo7KSrGLLHqOgdAAAAEAGeo3RCvwA3QB8Um2Sq7oEAAAAQAZ6lakK/ACKyyGH0BIOWOQAAABpBmqdJqEFomUwId//+qZYADk+0vC1BP7A8YQAAACdBmstJ4QpSZTAh3/6plgAN97S/bDPUFfye7l8QhB//CVUM3//j1oAAAAAVQZ7pRTRML/8AEFnrVXf+fu1ie5ecAAAAEAGfCHRCvwAWtNaMkt/r0cEAAAAQAZ8KakK/AA6CuDXHira8YAAAABNBmw9JqEFomUwId//+qZYAAJWAAAAADEGfLUURLC//AACygQAAAA8Bn0x0Qr8ACa7jujtvhm8AAAAPAZ9OakK/AAmrzRBajzB/AAAAE0GbU0moQWyZTAh3//6plgAAlYAAAAAMQZ9xRRUsL/8AALKAAAAADwGfkHRCvwAJruO6O2+GbwAAAA8Bn5JqQr8ACavNEFqPMH4AAAATQZuXSahBbJlMCHf//qmWAACVgAAAAAxBn7VFFSwv/wAAsoEAAAAPAZ/UdEK/AAmu47o7b4ZvAAAADwGf1mpCvwAJq80QWo8wfwAAABNBm9tJqEFsmUwId//+qZYAAJWBAAAADEGf+UUVLC//AACygAAAAA8Bnhh0Qr8ACa7jujtvhm8AAAAPAZ4aakK/AAmrzRBajzB+AAAAE0GaH0moQWyZTAh3//6plgAAlYEAAAAMQZ49RRUsL/8AALKBAAAADwGeXHRCvwAJruO6O2+GbwAAAA8Bnl5qQr8ACavNEFqPMH4AAAATQZpDSahBbJlMCHf//qmWAACVgQAAAAxBnmFFFSwv/wAAsoAAAAAPAZ6AdEK/AAmu47o7b4ZvAAAADwGegmpCvwAJq80QWo8wfgAAABNBmodJqEFsmUwId//+qZYAAJWBAAAADEGepUUVLC//AACygQAAAA8BnsR0Qr8ACa7jujtvhm8AAAAPAZ7GakK/AAmrzRBajzB/AAAAHEGay0moQWyZTAh3//6plgAJQUdECzQHd9GPXg4AAAAQQZ7pRRUsL/8ACxUCClDPOAAAAA4Bnwh0Qr8ACa7jvPOMPwAAABABnwpqQr8ADts8IeNDWWaAAAAAI0GbD0moQWyZTAh3//6plgAJT8efzTud9K57JVTmWWfPsyHAAAAAKEGfLUUVLC//AAsTLDaTYeErUxf/8Qf/vLP/8Ovcs//xBM39KT67A4EAAAAQAZ9MdEK/AA8vyDmve5edEQAAABABn05qQr8ACfNuRV4AoKOBAAAAHEGbU0moQWyZTAh3//6plgACl++r70TU6hBuEP4AAAAQQZ9xRRUsL/8AAxCru/zvsAAAAA8Bn5B0Qr8ABBbRi4D8+8EAAAAPAZ+SakK/AAQWVulGkPN2AAAAF0Gbl0moQWyZTAh3//6plgAChc8yIX+AAAAADkGftUUVLC//AAL8Iw+hAAAAEAGf1HRCvwAD+WKxefwOm0AAAAAQAZ/WakK/AAP4ahz/Mt5fQQAAABNBm9tJqEFsmUwId//+qZYAAJWBAAAADEGf+UUVLC//AACygAAAABABnhh0Qr8AA/lisXn8DptBAAAAEAGeGmpCvwAD+Goc/zLeX0AAAAATQZofSahBbJlMCHf//qmWAACVgQAAAAxBnj1FFSwv/wAAsoEAAAAQAZ5cdEK/AAP5YrF5/A6bQAAAABABnl5qQr8AA/hqHP8y3l9AAAAAE0GaQ0moQWyZTAh3//6plgAAlYEAAAAMQZ5hRRUsL/8AALKAAAAAEAGegHRCvwAD+WKxefwOm0EAAAAQAZ6CakK/AAP4ahz/Mt5fQAAAABNBmodJqEFsmUwId//+qZYAAJWBAAAADEGepUUVLC//AACygQAAABABnsR0Qr8AA/lisXn8DptBAAAAEAGexmpCvwAD+Goc/zLeX0EAAAATQZrLSahBbJlMCHf//qmWAACVgAAAAAxBnulFFSwv/wAAsoAAAAAQAZ8IdEK/AAP5YrF5/A6bQQAAABABnwpqQr8AA/hqHP8y3l9AAAAAE0GbD0moQWyZTAh3//6plgAAlYAAAAAMQZ8tRRUsL/8AALKBAAAAEAGfTHRCvwAD+WKxefwOm0EAAAAQAZ9OakK/AAP4ahz/Mt5fQQAAABNBm1NJqEFsmUwId//+qZYAAJWAAAAADEGfcUUVLC//AACygAAAABABn5B0Qr8AA/lisXn8DptBAAAAEAGfkmpCvwAD+Goc/zLeX0AAAAATQZuXSahBbJlMCHf//qmWAACVgAAAAAxBn7VFFSwv/wAAsoEAAAAQAZ/UdEK/AAP5YrF5/A6bQAAAABABn9ZqQr8AA/hqHP8y3l9BAAAAE0Gb20moQWyZTAh3//6plgAAlYEAAAAMQZ/5RRUsL/8AALKAAAAAEAGeGHRCvwAD+WKxefwOm0EAAAAQAZ4aakK/AAP4ahz/Mt5fQAAAABNBmh9JqEFsmUwId//+qZYAAJWBAAAADEGePUUVLC//AACygQAAABABnlx0Qr8AA/lisXn8DptAAAAAEAGeXmpCvwAD+Goc/zLeX0AAAAATQZpDSahBbJlMCHf//qmWAACVgQAAAAxBnmFFFSwv/wAAsoAAAAAQAZ6AdEK/AAP5YrF5/A6bQQAAABABnoJqQr8AA/hqHP8y3l9AAAAAE0Gah0moQWyZTAh3//6plgAAlYEAAAAMQZ6lRRUsL/8AALKBAAAAEAGexHRCvwAD+WKxefwOm0EAAAAQAZ7GakK/AAP4ahz/Mt5fQQAAABNBmstJqEFsmUwId//+qZYAAJWAAAAADEGe6UUVLC//AACygAAAABABnwh0Qr8AA/lisXn8DptBAAAAEAGfCmpCvwAD+Goc/zLeX0AAAAASQZsPSahBbJlMCG///qeEAAEnAAAADEGfLUUVLC//AACygQAAABABn0x0Qr8AA/lisXn8DptBAAAAEAGfTmpCvwAD+Goc/zLeX0EAAAAaQZtQSahBbJlMCHf//qmWAAKB8gzQB6S+3XAAAAASQZt0SeEKUmUwId/+qZYAAJWAAAAADEGfkkU0TC//AACygQAAABABn7F0Qr8ABkrKu6vx3jpAAAAADwGfs2pCvwAD74PAjdf5fQAAABxBm7hJqEFomUwId//+qZYAAoXPMiKJqdQg3YptAAAAEEGf1kURLC//AAL8q7v88DAAAAAPAZ/1dEK/AAP4X4uA/P3BAAAAEAGf92pCvwAD+AvOdaGGJEEAAAApQZv8SahBbJlMCHf//qmWAAJj8TzmWVqmq8ClEgXgUzXLI/Wl77r6ylgAAAARQZ4aRRUsL/8AAtdAitGjR3EAAAAPAZ45dEK/AAPjYrGEKx/AAAAAEAGeO2pCvwADzM+Y3Q5IQHkAAAATQZogSahBbJlMCHf//qmWAACVgQAAAAxBnl5FFSwv/wAAsoAAAAAQAZ59dEK/AAPCsA34APu0wAAAABABnn9qQr8AA8KwDezx92mBAAAAE0GaZEmoQWyZTAh3//6plgAAlYAAAAAMQZ6CRRUsL/8AALKBAAAAEAGeoXRCvwADwrAN+AD7tMAAAAAQAZ6jakK/AAPCsA3s8fdpgQAAABNBmqhJqEFsmUwId//+qZYAAJWBAAAADEGexkUVLC//AACygQAAABABnuV0Qr8AA8KwDfgA+7TBAAAAEAGe52pCvwADwrAN7PH3aYAAAAATQZrsSahBbJlMCHf//qmWAACVgAAAAAxBnwpFFSwv/wAAsoEAAAAQAZ8pdEK/AAPCsA34APu0wAAAABABnytqQr8AA8KwDezx92mAAAAAE0GbMEmoQWyZTAh3//6plgAAlYEAAAAMQZ9ORRUsL/8AALKBAAAAEAGfbXRCvwADwrAN+AD7tMEAAAAQAZ9vakK/AAPCsA3s8fdpgAAAABNBm3RJqEFsmUwId//+qZYAAJWAAAAADEGfkkUVLC//AACygQAAABABn7F0Qr8AA8KwDfgA+7TAAAAAEAGfs2pCvwADwrAN7PH3aYAAAAATQZu4SahBbJlMCHf//qmWAACVgQAAAAxBn9ZFFSwv/wAAsoAAAAAQAZ/1dEK/AAPCsA34APu0wQAAABABn/dqQr8AA8KwDezx92mBAAAAE0Gb/EmoQWyZTAh3//6plgAAlYAAAAAMQZ4aRRUsL/8AALKBAAAAEAGeOXRCvwADwrAN+AD7tMAAAAAQAZ47akK/AAPCsA3s8fdpgQAAABNBmiBJqEFsmUwId//+qZYAAJWBAAAADEGeXkUVLC//AACygAAAABABnn10Qr8AA8KwDfgA+7TAAAAAEAGef2pCvwADwrAN7PH3aYEAAAATQZpkSahBbJlMCHf//qmWAACVgAAAAAxBnoJFFSwv/wAAsoEAAAAQAZ6hdEK/AAPCsA34APu0wAAAABABnqNqQr8AA8KwDezx92mBAAAAIEGaqEmoQWyZTAh3//6plgACY/Rz5rKCGfq61nKDcR8xAAAAEEGexkUVLC//AALXPr2l1hsAAAAPAZ7ldEK/AAPMX4uA/QHBAAAAEAGe52pCvwADzAvOdaGGKEAAAAATQZrsSahBbJlMCHf//qmWAACVgAAAAAxBnwpFFSwv/wAAsoEAAAAgAZ8pdEK/AAO5pef/+P8XpQan5w7VrV1yqXqz7pwTmbAAAAAQAZ8rakK/AAO3bgOf1oHUSAAAABNBmzBJqEFsmUwId//+qZYAAJWBAAAADEGfTkUVLC//AACygQAAABABn210Qr8AA7Z2Bz/Mt5mxAAAAEAGfb2pCvwADt24Dn9aB1EgAAAATQZt0SahBbJlMCHf//qmWAACVgAAAAAxBn5JFFSwv/wAAsoEAAAAQAZ+xdEK/AAO2dgc/zLeZsAAAABABn7NqQr8AA7duA5/WgdRIAAAAF0GbuEmoQWyZTAh3//6plgADjpkJNxVVAAAAJUGf1kUVLC//AAQq/Av8Qe5//iDoMln/+Gn5Z//iBjttb2K7TIAAAAAQAZ/1dEK/AAXTMjfX9psjYQAAABABn/dqQr8ABdG3Iq8AUKOBAAAAE0Gb/EmoQWyZTAh3//6plgAAlYAAAAAMQZ4aRRUsL/8AALKBAAAAEAGeOXRCvwADt2KxefwOokAAAAAQAZ47akK/AAO2ahz/Mt5mwQAAABNBmiBJqEFsmUwId//+qZYAAJWBAAAADEGeXkUVLC//AACygAAAABABnn10Qr8AA7disXn8DqJAAAAAEAGef2pCvwADtmoc/zLeZsEAAAAnQZpkSahBbJlMCHf//qmWAAJj8TzmWVqmq8ClEgXgUzXLH+883ItgAAAAEEGegkUVLC//AALXQIKUPhkAAAAPAZ6hdEK/AAO3YrGEKyPAAAAAEAGeo2pCvwADzMweTA9fgYEAAAATQZqoSahBbJlMCHf//qmWAACVgQAAAAxBnsZFFSwv/wAAsoEAAAAQAZ7ldEK/AAPCsA34APu0wQAAABABnudqQr8AA8KwDezx92mAAAAAHkGa7EmoQWyZTAh3//6plgACY/S6Bw/2LAdEC3GORgAAABBBnwpFFSwv/wAC10CK0pF9AAAADwGfKXRCvwADzF+LgP0BwAAAABABnytqQr8AA8wRM030kIDwAAAAE0GbMEmoQWyZTAh3//6plgAAlYEAAAAMQZ9ORRUsL/8AALKBAAAAEAGfbXRCvwAD42KxefwOncEAAAAQAZ9vakK/AAPiahz/Mt5hwAAAABNBm3RJqEFsmUwId//+qZYAAJWAAAAADEGfkkUVLC//AACygQAAABABn7F0Qr8AA+NisXn8Dp3AAAAAEAGfs2pCvwAD4moc/zLeYcAAAAATQZu4SahBbJlMCHf//qmWAACVgQAAAAxBn9ZFFSwv/wAAsoAAAAAQAZ/1dEK/AAPjYrF5/A6dwQAAABABn/dqQr8AA+JqHP8y3mHBAAAAE0Gb/EmoQWyZTAh3//6plgAAlYAAAAAMQZ4aRRUsL/8AALKBAAAAEAGeOXRCvwAD42KxefwOncAAAAAQAZ47akK/AAPiahz/Mt5hwQAAABNBmiBJqEFsmUwId//+qZYAAJWBAAAADEGeXkUVLC//AACygAAAABABnn10Qr8AA+NisXn8Dp3AAAAAEAGef2pCvwAD4moc/zLeYcEAAAATQZpkSahBbJlMCHf//qmWAACVgAAAAAxBnoJFFSwv/wAAsoEAAAAQAZ6hdEK/AAPjYrF5/A6dwAAAABABnqNqQr8AA+JqHP8y3mHBAAAAE0GaqEmoQWyZTAh3//6plgAAlYEAAAAMQZ7GRRUsL/8AALKBAAAAEAGe5XRCvwAD42KxefwOncEAAAAQAZ7nakK/AAPiahz/Mt5hwAAAABxBmuxJqEFsmUwId//+qZYAAoGlmLTNAd30Y9kKAAAAEEGfCkUVLC//AAL8q7v88DEAAAAPAZ8pdEK/AAPjYrGEKx/AAAAAEAGfK2pCvwAD+M8IeNDWyYAAAAASQZswSahBbJlMCG///qeEAAEnAAAADEGfTkUVLC//AACygQAAAA8Bn210Qr8AA++DwLYD8/cAAAAPAZ9vakK/AAPvg8CN1/l9AAAAGkGbcUmoQWyZTAh3//6plgAD0JkJNw4KPn8wAAAAGkGblUnhClJlMCHf/qmWAAPVxejDtFfM8YvBAAAAEEGfs0U0TC//AASWgM11xcAAAAAQAZ/SdEK/AAZIAAMkt/s/wAAAAA8Bn9RqQr8AA+NgS5X+YcEAAAAcQZvZSahBaJlMCHf//qmWAAJz8efzNCoFopiJQgAAABJBn/dFESwv/wAEl4z5rXv6kYcAAAAQAZ4WdEK/AAZKRZV4EV5/gQAAABABnhhqQr8ABkiW068AUJWAAAACr2WIggAEP/73SnzLLZD+97//3P+TXRUq1JAZHwCcONwOxXSIKS28UfgUskb+ZZPPYqAOtMPX/gpIbMmR1CPsQ4BIlGLTV8W9MIkQx/U1jgTcsns3etd5iyZSIqXmX/65l4zns5J97ytv7iW8lsc9SgYOPxaQsTlZ4Vf/cFMyeFIJLw3VEsFyZdpkec6yj/XLB0H3d/KIXffvRuPznwb0TLo/0s5OTVF7kSB5/sukW5smlcYPmzlizmQZRoOIiLtEwKHRitzA9FqD05RWgYnd8PzFMLbcmeZNPq/DZcMOkNnxD798bQ4OodDpo1VyTs+lbffyiZLE46DObjzkk2g2NBp7/Kk5gqQUzrZvhuC6AOpK6Bj4FHxjTFSmRWBtxCrMsoDwiFw9XCMPSUaTmyLorWgiNy5kr7JpYVWwqFoDMuBvw+IzX8h2vGAGY9zPSjVYVfEc0M2fV16UCg2mt+nAYhPvJdy5Jk9JCSBygUch7tpdJ53liTFcshwkaFeT3J2YQnDVoqWMNy9kiF3SLbbUVcWJ43GnBoxDLqj+quJQiJzgbG5o0dyeq1OKYqT7FeeWz552Iqi+CmYqbe7jzAbV1pWC1/yqt6w6HqsFZlRDr662FrJaONpO6Tko78+TkauWaMuPY7qS1lC/2BqFVNTpmiMHmu9c0OdvjW+A0jriz0anKbTzTFqimJLHmZ+QjPUi70YdvDDwunTtcO6xZEfNFgNHRSz4UOLOCEmKh0Nm1mzMPmOnrKYkFvkaAyGdZs81egPRL5vMNPnbv95lUF8pFO4/NTPFyOyWpZqeVtkamcOjOf6qi4G9gosNaqldQHzbJaDnaOTgHh0HgT1ByDWdb2lrZTMogHYYWrI2p611N9/7KSM/XfW8CpVkkLCj2ZaIScEaajveAUVPf2iUCaAMmQAAABRBmiFsQ7/+qZYAApPfq4zS/tirgAAAABFBmkU8IZMphDv//qmWAACVgQAAAAtBnmNqU8L/AACygQAAABABnoJ0Qr8ABAlSO/AB92DAAAAAEAGehGpCvwAECVI72ePuwYAAAAATQZqJSahBaJlMCHf//qmWAACVgQAAAAxBnqdFESwv/wAAsoAAAAAQAZ7GdEK/AAQJUjvwAfdgwQAAABABnshqQr8ABAlSO9nj7sGAAAAAE0GazUmoQWyZTAh3//6plgAAlYEAAAAMQZ7rRRUsL/8AALKBAAAAEAGfCnRCvwAECVI78AH3YMEAAAAQAZ8MakK/AAQJUjvZ4+7BgQAAABNBmxFJqEFsmUwId//+qZYAAJWAAAAADEGfL0UVLC//AACygAAAABABn050Qr8ABAlSO/AB92DBAAAAEAGfUGpCvwAECVI72ePuwYAAAAATQZtVSahBbJlMCHf//qmWAACVgAAAAAxBn3NFFSwv/wAAsoEAAAAQAZ+SdEK/AAQJUjvwAfdgwQAAABABn5RqQr8ABAlSO9nj7sGBAAAAE0GbmUmoQWyZTAh3//6plgAAlYAAAAAMQZ+3RRUsL/8AALKAAAAAEAGf1nRCvwAECVI78AH3YMEAAAAQAZ/YakK/AAQJUjvZ4+7BgAAAABNBm91JqEFsmUwId//+qZYAAJWAAAAADEGf+0UVLC//AACygQAAABABnhp0Qr8ABnLKu6vx3jhgAAAAEAGeHGpCvwAECVI72ePuwYEAAAASQZoBSahBbJlMCG///qeEAAEnAAAADEGeP0UVLC//AACygAAAABABnl50Qr8ABAlSO/AB92DBAAAAEAGeQGpCvwAECVI72ePuwYAAAAAaQZpCSahBbJlMCHf//qmWAAKX76vrsQbivLEAAAAXQZpmSeEKUmUwId/+qZYAAbT21f/6SaEAAAASQZ6ERTRML/8AAyUKjd0VMFgwAAAADwGeo3RCvwAEN9J3Bsl7BgAAABABnqVqQr8ABDZPnOtDDEFBAAAAE0GaqkmoQWiZTAh3//6plgAAlYAAAAAMQZ7IRREsL/8AALKBAAAAEAGe53RCvwAEGEAc/rQOmUAAAAAQAZ7pakK/AAQW1rushh0ygQAAABNBmu5JqEFsmUwId//+qZYAAJWBAAAADEGfDEUVLC//AACygQAAABABnyt0Qr8ABBhAHP60DplBAAAAEAGfLWpCvwAEFta7rIYdMoAAAAATQZsySahBbJlMCHf//qmWAACVgAAAAAxBn1BFFSwv/wAAsoEAAAAQAZ9vdEK/AAQYQBz+tA6ZQAAAABABn3FqQr8ABBbWu6yGHTKAAAAAE0GbdkmoQWyZTAh3//6plgAAlYEAAAAMQZ+URRUsL/8AALKBAAAAEAGfs3RCvwAEGEAc/rQOmUEAAAAQAZ+1akK/AAQW1rushh0ygAAAACZBm7pJqEFsmUwId//+qZYAAqnuxcyyxhVXgUzXFTwKJPX/eebkNQAAABBBn9hFFSwv/wADJKu7/O8xAAAADwGf93RCvwAEGEAdCcnJQAAAAA8Bn/lqQr8ABDdiPJgevt8AAAAZQZv+SahBbJlMCHf//qmWAAKp8kvy7Rm6hwAAABBBnhxFFSwv/wADJKu7/O8wAAAADwGeO3RCvwAENtGLgPz5wQAAABABnj1qQr8ABDZPnOtDDEFBAAAAE0GaIkmoQWyZTAh3//6plgAAlYAAAAAMQZ5ARRUsL/8AALKBAAAAEAGef3RCvwAEGEAc/rQOmUAAAAAQAZ5hakK/AAQW1rushh0ygQAAABNBmmZJqEFsmUwId//+qZYAAJWBAAAADEGehEUVLC//AACygAAAABABnqN0Qr8ABBhAHP60DplAAAAAEAGepWpCvwAEFta7rIYdMoEAAAATQZqqSahBbJlMCHf//qmWAACVgAAAACNBnshFFSwv/wADJ6YP//j/J6aGp/GXw+Q5CmjfY+49AOsewQAAAA8Bnud0Qr8ABDfSdwbJewYAAAAQAZ7pakK/AAQ2T5zrQwxBQQAAABNBmu5JqEFsmUwId//+qZYAAJWBAAAADEGfDEUVLC//AACygQAAABABnyt0Qr8ABBhAHP60DplBAAAAEAGfLWpCvwAEFta7rIYdMoAAAAATQZsySahBbJlMCHf//qmWAACVgAAAAAxBn1BFFSwv/wAAsoEAAAAQAZ9vdEK/AAQYQBz+tA6ZQAAAABABn3FqQr8ABBbWu6yGHTKAAAAAE0GbdkmoQWyZTAh3//6plgAAlYEAAAAMQZ+URRUsL/8AALKBAAAAEAGfs3RCvwAEGEAc/rQOmUEAAAAQAZ+1akK/AAQW1rushh0ygAAAABxBm7pJqEFsmUwId//+qZYAAoGlnKDNAp9GP1AOAAAAEEGf2EUVLC//AAL8q8b2EokAAAAPAZ/3dEK/AAQYQB0JyclAAAAAEAGf+WpCvwAEFeaJkTStUkAAAAATQZv+SahBbJlMCHf//qmWAACVgQAAAAxBnhxFFSwv/wAAsoAAAAAPAZ47dEK/AAPvg8C2A/P3AAAADwGePWpCvwAD74PAjdf5fQAAABNBmiJJqEFsmUwId//+qZYAAJWAAAAADEGeQEUVLC//AACygQAAAA8Bnn90Qr8AA++DwLYD8/cAAAAPAZ5hakK/AAPvg8CN1/l9AAAAE0GaZkmoQWyZTAh3//6plgAAlYEAAAAMQZ6ERRUsL/8AALKAAAAADwGeo3RCvwAD74PAtgPz9wAAAA8BnqVqQr8AA++DwI3X+X0AAAATQZqqSahBbJlMCHf//qmWAACVgAAAAAxBnshFFSwv/wAAsoEAAAAPAZ7ndEK/AAPvg8C2A/P3AAAADwGe6WpCvwAD74PAjdf5fQAAABNBmu5JqEFsmUwId//+qZYAAJWBAAAADEGfDEUVLC//AACygQAAAA8Bnyt0Qr8AA++DwLYD8/cAAAAPAZ8takK/AAPvg8CN1/l9AAAAHEGbMkmoQWyZTAh3//6plgAChc8yIxhUC0U5oBwAAAAQQZ9QRRUsL/8AAvwjjO6JIQAAABABn290Qr8AA/fFmeV+SnkYAAAADwGfcWpCvwAEFta7vu/JQAAAABNBm3ZJqEFsmUwId//+qZYAAJWBAAAADEGflEUVLC//AACygQAAABABn7N0Qr8ABBhAHP60DplBAAAAEAGftWpCvwAEFta7rIYdMoAAAAATQZu6SahBbJlMCHf//qmWAACVgAAAAAxBn9hFFSwv/wAAsoEAAAAQAZ/3dEK/AAQYQBz+tA6ZQAAAABABn/lqQr8ABBbWu6yGHTKAAAAAE0Gb/kmoQWyZTAh3//6plgAAlYEAAAAMQZ4cRRUsL/8AALKAAAAAEAGeO3RCvwAEGEAc/rQOmUEAAAAQAZ49akK/AAQW1rushh0ygQAAABNBmiJJqEFsmUwId//+qZYAAJWAAAAADEGeQEUVLC//AACygQAAABABnn90Qr8ABBhAHP60DplAAAAAEAGeYWpCvwAEFta7rIYdMoEAAAASQZpmSahBbJlMCG///qeEAAEnAAAADEGehEUVLC//AACygAAAABABnqN0Qr8ABBhAHP60DplAAAAAEAGepWpCvwAEFta7rIYdMoEAAAAaQZqnSahBbJlMCHf//qmWAAKT8gzQB6S+3LAAAAASQZrLSeEKUmUwId/+qZYAAJWBAAAADEGe6UU0TC//AACygAAAABABnwh0Qr8ABnLKu6vx3jhhAAAAEAGfCmpCvwAECVI72ePuwYEAAAATQZsPSahBaJlMCHf//qmWAACVgQAAAAxBny1FESwv/wAAsoEAAAAQAZ9MdEK/AAQJUjvwAfdgwAAAABABn05qQr8ABAlSO9nj7sGAAAAAE0GbU0moQWyZTAh3//6plgAAlYEAAAAMQZ9xRRUsL/8AALKAAAAAEAGfkHRCvwAECVI78AH3YMAAAAAQAZ+SakK/AAQJUjvZ4+7BgQAAABNBm5dJqEFsmUwId//+qZYAAJWBAAAADEGftUUVLC//AACygQAAABABn9R0Qr8ABAlSO/AB92DAAAAAEAGf1mpCvwAECVI72ePuwYAAAAATQZvbSahBbJlMCHf//qmWAACVgQAAAAxBn/lFFSwv/wAAsoAAAAAQAZ4YdEK/AAQJUjvwAfdgwAAAABABnhpqQr8ABAlSO9nj7sGBAAAAE0GaH0moQWyZTAh3//6plgAAlYAAAAAMQZ49RRUsL/8AALKBAAAAEAGeXHRCvwAECVI78AH3YMEAAAAQAZ5eakK/AAQJUjvZ4+7BgAAAABxBmkNJqEFsmUwId//+qZYAApfvq++MKgWimIkfAAAAEEGeYUUVLC//AAMQq8b2EjgAAAAPAZ6AdEK/AAQW0YuA/PvBAAAAEAGegmpCvwAENzRvNMVbmUEAAAATQZqHSahBbJlMCHf//qmWAACVgAAAABBBnqVFFSwv/wADERLc/XJHAAAAEAGexHRCvwAENZ/EzvIXmUEAAAAQAZ7GakK/AAQ3NG80xVuZQAAAABlBmstJqEFsmUwId//+qZYAApQTpH99X3kfAAAAEEGe6UUVLC//AAMQI4zuh6AAAAAQAZ8IdEK/AAQ1n8TO8heZQQAAAA8BnwpqQr8ABBg1gXX+XMEAAAATQZsPSahBbJlMCHf//qmWAACVgQAAAAxBny1FFSwv/wAAsoEAAAAQAZ9MdEK/AAQJUjvwAfdgwAAAABABn05qQr8ABAlSO9nj7sGAAAAAE0GbU0moQWyZTAh3//6plgAAlYEAAAAMQZ9xRRUsL/8AALKAAAAAEAGfkHRCvwAECVI78AH3YMAAAAAQAZ+SakK/AAQJUjvZ4+7BgQAAABNBm5dJqEFsmUwId//+qZYAAJWBAAAADEGftUUVLC//AACygQAAABABn9R0Qr8ABAlSO/AB92DAAAAAEAGf1mpCvwAECVI72ePuwYAAAAATQZvbSahBbJlMCHf//qmWAACVgQAAAAxBn/lFFSwv/wAAsoAAAAAQAZ4YdEK/AAQJUjvwAfdgwAAAABABnhpqQr8ABAlSO9nj7sGBAAAAE0GaH0moQWyZTAh3//6plgAAlYAAAAAMQZ49RRUsL/8AALKBAAAAEAGeXHRCvwAECVI78AH3YMEAAAAQAZ5eakK/AAQJUjvZ4+7BgAAAABNBmkNJqEFsmUwId//+qZYAAJWBAAAADEGeYUUVLC//AACygAAAABABnoB0Qr8ABAlSO/AB92DBAAAAEAGegmpCvwAECVI72ePuwYEAAAATQZqHSahBbJlMCHf//qmWAACVgAAAAAxBnqVFFSwv/wAAsoAAAAAQAZ7EdEK/AAQJUjvwAfdgwQAAABABnsZqQr8ABAlSO9nj7sGAAAAAE0Gay0moQWyZTAh3//6plgAAlYEAAAAMQZ7pRRUsL/8AALKAAAAAEAGfCHRCvwAECVI78AH3YMEAAAAQAZ8KakK/AAQJUjvZ4+7BgQAAABNBmw9JqEFsmUwId//+qZYAAJWBAAAADEGfLUUVLC//AACygQAAABABn0x0Qr8ABAlSO/AB92DAAAAAEAGfTmpCvwAECVI72ePuwYAAAAATQZtTSahBbJlMCHf//qmWAACVgQAAAAxBn3FFFSwv/wAAsoAAAAAQAZ+QdEK/AAQJUjvwAfdgwAAAABABn5JqQr8ABAlSO9nj7sGBAAAAE0Gbl0moQWyZTAh3//6plgAAlYEAAAAMQZ+1RRUsL/8AALKBAAAAEAGf1HRCvwAECVI78AH3YMAAAAAQAZ/WakK/AAQJUjvZ4+7BgAAAABNBm9tJqEFsmUwId//+qZYAAJWBAAAADEGf+UUVLC//AACygAAAABABnhh0Qr8ABAlSO/AB92DAAAAAEAGeGmpCvwAECVI72ePuwYEAAAATQZofSahBbJlMCHf//qmWAACVgAAAAAxBnj1FFSwv/wAAsoEAAAAQAZ5cdEK/AAQJUjvwAfdgwQAAABABnl5qQr8ABAlSO9nj7sGAAAAAE0GaQ0moQWyZTAh3//6plgAAlYEAAAAMQZ5hRRUsL/8AALKAAAAAEAGegHRCvwAECVI78AH3YMEAAAAQAZ6CakK/AAQJUjvZ4+7BgQAAABNBmodJqEFsmUwId//+qZYAAJWAAAAADEGepUUVLC//AACygAAAABABnsR0Qr8ABAlSO/AB92DBAAAAEAGexmpCvwAECVI72ePuwYAAAAATQZrLSahBbJlMCHf//qmWAACVgQAAAAxBnulFFSwv/wAAsoAAAAAQAZ8IdEK/AAQJUjvwAfdgwQAAABABnwpqQr8ABAlSO9nj7sGBAAAAE0GbD0moQWyZTAh3//6plgAAlYEAAAAMQZ8tRRUsL/8AALKBAAAAEAGfTHRCvwAECVI78AH3YMAAAAAQAZ9OakK/AAQJUjvZ4+7BgAAAABJBm1NJqEFsmUwIb//+p4QAAScAAAAMQZ9xRRUsL/8AALKAAAAAEAGfkHRCvwAECVI78AH3YMAAAAAQAZ+SakK/AAQJUjvZ4+7BgQAAABJBm5dJqEFsmUwIZ//+nhAABH0AAAAMQZ+1RRUsL/8AALKBAAAAEAGf1HRCvwAECVI78AH3YMAAAAAQAZ/WakK/AAQJUjvZ4+7BgAAAABNBm9lJqEFsmUwUTC///oywAASNAAAAEAGf+GpCvwAECVI72ePuwYAAAAJbZYiEADv//vb8/AptUwndP/9P+VxN2UIE1zAALTEAIgTYlI7FKYvwKUU8/ApmttSPWQdKT+pmfiR+H/Esfa8wKOjIx4HDpDQqgy+2Ajdc7GtP5Wt/8q0f/c0CJ/rFvliE9yG8BGpA5KNELuo2/vsFDHyi9qwpxnJEv2oeUF+sPWG8d9/apxsP0OywmSeOtX87Vn1QE2+TGL55GEWeTdUCq1mEOxquQeUWlXaz1kzWlhALn5yEzbke5Fy/PJj+I3udAsLKP+B3clNWBx4zZKJdieV9kmbfPVRjm/LfF56dbLKE+vx3HELUvJ6ybZhEYjAROZedkVLc5YFY9rI+6uV57oVQ+vYWPjHHdMmY9Lh3j8TqVhk1OWydoBb6xTPFLfzdOmS4KnAmhRGNVa2TpFIk7HaMvsYTiuw736BgCsjB4cPZug42dx4t0kwW8iqR75D/E3yM9/ye7117DGdjoWCgv5o3Z8htQS9x2w0XvcKtoq7EXa9xtBFDRkeNOKA4bvZc3p0WorrRf0PIVbAiSIO/RBXCPF6Vmv2TEfER75cBp2Fm126wxhkQYLk+fmq91ai2/Ylg4nsjc//Tjoxkuv1EG2R1BTo2UZUTWXC71eXW3/pJuQ18ISY8uk/G3Oxp/lhgrRZEP9SbE+Xr7LVhTUUOiHt8oKVvtpnHr/c+v7gnkAQTxai0viYOri+mEZFYl/18TSatMENv01f+9Ius0969vpmS2cb42MDh2lOQ6ctl88HcI3UcjKHwZm4F5ymkInOZjH+GYe8IrCoLvX5h/vFgpevAb0obPuQvoAyoAAAAE0GaIWiMEFAP5AP5Cv/+OEAAEXEAABqBbW9vdgAAAGxtdmhkAAAAAAAAAAAAAAAAAAAD6AAATnAAAQAAAQAAAAAAAAAAAAAAAAEAAAAAAAAAAAAAAAAAAAABAAAAAAAAAAAAAAAAAABAAAAAAAAAAAAAAAAAAAAAAAAAAAAAAAAAAAAAAAAAAgAAGat0cmFrAAAAXHRraGQAAAADAAAAAAAAAAAAAAABAAAAAAAATnAAAAAAAAAAAAAAAAAAAAAAAAEAAAAAAAAAAAAAAAAAAAABAAAAAAAAAAAAAAAAAABAAAAAARAAAAEQAAAAAAAkZWR0cwAAABxlbHN0AAAAAAAAAAEAAE5wAAAEAAABAAAAABkjbWRpYQAAACBtZGhkAAAAAAAAAAAAAAAAAAAyAAAD7ABVxAAAAAAALWhkbHIAAAAAAAAAAHZpZGUAAAAAAAAAAAAAAABWaWRlb0hhbmRsZXIAAAAYzm1pbmYAAAAUdm1oZAAAAAEAAAAAAAAAAAAAACRkaW5mAAAAHGRyZWYAAAAAAAAAAQAAAAx1cmwgAAAAAQAAGI5zdGJsAAAAlnN0c2QAAAAAAAAAAQAAAIZhdmMxAAAAAAAAAAEAAAAAAAAAAAAAAAAAAAAAARABEABIAAAASAAAAAAAAAABAAAAAAAAAAAAAAAAAAAAAAAAAAAAAAAAAAAAAAAAAAAAGP//AAAAMGF2Y0MB9AAN/+EAF2f0AA2RmygiEdCAAAADAIAAABkHihTLAQAGaOvjxEhEAAAAGHN0dHMAAAAAAAAAAQAAAfYAAAIAAAAAHHN0c3MAAAAAAAAAAwAAAAEAAAD7AAAB9QAAD6BjdHRzAAAAAAAAAfIAAAADAAAEAAAAAAEAAAoAAAAAAQAABAAAAAABAAAAAAAAAAEAAAIAAAAAAQAABAAAAAABAAAKAAAAAAEAAAQAAAAAAQAAAAAAAAABAAACAAAAAAEAAAoAAAAAAQAABAAAAAABAAAAAAAAAAEAAAIAAAAAAQAACgAAAAABAAAEAAAAAAEAAAAAAAAAAQAAAgAAAAABAAAKAAAAAAEAAAQAAAAAAQAAAAAAAAABAAACAAAAAAEAAAoAAAAAAQAABAAAAAABAAAAAAAAAAEAAAIAAAAAAQAACgAAAAABAAAEAAAAAAEAAAAAAAAAAQAAAgAAAAABAAAKAAAAAAEAAAQAAAAAAQAAAAAAAAABAAACAAAAAAEAAAoAAAAAAQAABAAAAAABAAAAAAAAAAEAAAIAAAAAAQAACgAAAAABAAAEAAAAAAEAAAAAAAAAAQAAAgAAAAABAAAKAAAAAAEAAAQAAAAAAQAAAAAAAAABAAACAAAAAAEAAAoAAAAAAQAABAAAAAABAAAAAAAAAAEAAAIAAAAAAQAACgAAAAABAAAEAAAAAAEAAAAAAAAAAQAAAgAAAAABAAAKAAAAAAEAAAQAAAAAAQAAAAAAAAABAAACAAAAAAEAAAoAAAAAAQAABAAAAAABAAAAAAAAAAEAAAIAAAAAAQAACgAAAAABAAAEAAAAAAEAAAAAAAAAAQAAAgAAAAABAAAKAAAAAAEAAAQAAAAAAQAAAAAAAAABAAACAAAAAAEAAAoAAAAAAQAABAAAAAABAAAAAAAAAAEAAAIAAAAAAQAACgAAAAABAAAEAAAAAAEAAAAAAAAAAQAAAgAAAAABAAAKAAAAAAEAAAQAAAAAAQAAAAAAAAABAAACAAAAAAEAAAoAAAAAAQAABAAAAAABAAAAAAAAAAEAAAIAAAAAAQAACgAAAAABAAAEAAAAAAEAAAAAAAAAAQAAAgAAAAABAAAKAAAAAAEAAAQAAAAAAQAAAAAAAAABAAACAAAAAAEAAAoAAAAAAQAABAAAAAABAAAAAAAAAAEAAAIAAAAAAQAACgAAAAABAAAEAAAAAAEAAAAAAAAAAQAAAgAAAAABAAAKAAAAAAEAAAQAAAAAAQAAAAAAAAABAAACAAAAAAEAAAoAAAAAAQAABAAAAAABAAAAAAAAAAEAAAIAAAAAAQAABAAAAAABAAAKAAAAAAEAAAQAAAAAAQAAAAAAAAABAAACAAAAAAEAAAoAAAAAAQAABAAAAAABAAAAAAAAAAEAAAIAAAAAAQAACgAAAAABAAAEAAAAAAEAAAAAAAAAAQAAAgAAAAABAAAKAAAAAAEAAAQAAAAAAQAAAAAAAAABAAACAAAAAAEAAAoAAAAAAQAABAAAAAABAAAAAAAAAAEAAAIAAAAAAQAACgAAAAABAAAEAAAAAAEAAAAAAAAAAQAAAgAAAAABAAAKAAAAAAEAAAQAAAAAAQAAAAAAAAABAAACAAAAAAEAAAoAAAAAAQAABAAAAAABAAAAAAAAAAEAAAIAAAAAAQAACgAAAAABAAAEAAAAAAEAAAAAAAAAAQAAAgAAAAABAAAKAAAAAAEAAAQAAAAAAQAAAAAAAAABAAACAAAAAAEAAAoAAAAAAQAABAAAAAABAAAAAAAAAAEAAAIAAAAAAQAACgAAAAABAAAEAAAAAAEAAAAAAAAAAQAAAgAAAAABAAAKAAAAAAEAAAQAAAAAAQAAAAAAAAABAAACAAAAAAEAAAoAAAAAAQAABAAAAAABAAAAAAAAAAEAAAIAAAAAAQAACgAAAAABAAAEAAAAAAEAAAAAAAAAAQAAAgAAAAABAAAKAAAAAAEAAAQAAAAAAQAAAAAAAAABAAACAAAAAAEAAAoAAAAAAQAABAAAAAABAAAAAAAAAAEAAAIAAAAAAQAACgAAAAABAAAEAAAAAAEAAAAAAAAAAQAAAgAAAAABAAAKAAAAAAEAAAQAAAAAAQAAAAAAAAABAAACAAAAAAEAAAoAAAAAAQAABAAAAAABAAAAAAAAAAEAAAIAAAAAAQAACgAAAAABAAAEAAAAAAEAAAAAAAAAAQAAAgAAAAABAAAKAAAAAAEAAAQAAAAAAQAAAAAAAAABAAACAAAAAAEAAAoAAAAAAQAABAAAAAABAAAAAAAAAAEAAAIAAAAAAQAACgAAAAABAAAEAAAAAAEAAAAAAAAAAQAAAgAAAAABAAAKAAAAAAEAAAQAAAAAAQAAAAAAAAABAAACAAAAAAEAAAoAAAAAAQAABAAAAAABAAAAAAAAAAEAAAIAAAAAAQAACgAAAAABAAAEAAAAAAEAAAAAAAAAAQAAAgAAAAABAAAKAAAAAAEAAAQAAAAAAQAAAAAAAAABAAACAAAAAAEAAAoAAAAAAQAABAAAAAABAAAAAAAAAAEAAAIAAAAAAQAACgAAAAABAAAEAAAAAAEAAAAAAAAAAQAAAgAAAAABAAAKAAAAAAEAAAQAAAAAAQAAAAAAAAABAAACAAAAAAEAAAoAAAAAAQAABAAAAAABAAAAAAAAAAEAAAIAAAAAAQAABAAAAAABAAAKAAAAAAEAAAQAAAAAAQAAAAAAAAABAAACAAAAAAEAAAoAAAAAAQAABAAAAAABAAAAAAAAAAEAAAIAAAAAAgAABAAAAAABAAAKAAAAAAEAAAQAAAAAAQAAAAAAAAABAAACAAAAAAEAAAoAAAAAAQAABAAAAAABAAAAAAAAAAEAAAIAAAAAAQAACgAAAAABAAAEAAAAAAEAAAAAAAAAAQAAAgAAAAABAAAKAAAAAAEAAAQAAAAAAQAAAAAAAAABAAACAAAAAAEAAAoAAAAAAQAABAAAAAABAAAAAAAAAAEAAAIAAAAAAQAACgAAAAABAAAEAAAAAAEAAAAAAAAAAQAAAgAAAAABAAAKAAAAAAEAAAQAAAAAAQAAAAAAAAABAAACAAAAAAEAAAoAAAAAAQAABAAAAAABAAAAAAAAAAEAAAIAAAAAAQAABAAAAAABAAAKAAAAAAEAAAQAAAAAAQAAAAAAAAABAAACAAAAAAEAAAoAAAAAAQAABAAAAAABAAAAAAAAAAEAAAIAAAAAAQAACgAAAAABAAAEAAAAAAEAAAAAAAAAAQAAAgAAAAABAAAKAAAAAAEAAAQAAAAAAQAAAAAAAAABAAACAAAAAAEAAAoAAAAAAQAABAAAAAABAAAAAAAAAAEAAAIAAAAAAQAACgAAAAABAAAEAAAAAAEAAAAAAAAAAQAAAgAAAAABAAAKAAAAAAEAAAQAAAAAAQAAAAAAAAABAAACAAAAAAEAAAoAAAAAAQAABAAAAAABAAAAAAAAAAEAAAIAAAAAAQAACgAAAAABAAAEAAAAAAEAAAAAAAAAAQAAAgAAAAABAAAKAAAAAAEAAAQAAAAAAQAAAAAAAAABAAACAAAAAAEAAAoAAAAAAQAABAAAAAABAAAAAAAAAAEAAAIAAAAAAQAACgAAAAABAAAEAAAAAAEAAAAAAAAAAQAAAgAAAAABAAAKAAAAAAEAAAQAAAAAAQAAAAAAAAABAAACAAAAAAEAAAoAAAAAAQAABAAAAAABAAAAAAAAAAEAAAIAAAAAAQAACgAAAAABAAAEAAAAAAEAAAAAAAAAAQAAAgAAAAABAAAKAAAAAAEAAAQAAAAAAQAAAAAAAAABAAACAAAAAAEAAAoAAAAAAQAABAAAAAABAAAAAAAAAAEAAAIAAAAAAQAACgAAAAABAAAEAAAAAAEAAAAAAAAAAQAAAgAAAAABAAAKAAAAAAEAAAQAAAAAAQAAAAAAAAABAAACAAAAAAEAAAoAAAAAAQAABAAAAAABAAAAAAAAAAEAAAIAAAAAAQAACgAAAAABAAAEAAAAAAEAAAAAAAAAAQAAAgAAAAABAAAKAAAAAAEAAAQAAAAAAQAAAAAAAAABAAACAAAAAAEAAAoAAAAAAQAABAAAAAABAAAAAAAAAAEAAAIAAAAAAQAACgAAAAABAAAEAAAAAAEAAAAAAAAAAQAAAgAAAAABAAAKAAAAAAEAAAQAAAAAAQAAAAAAAAABAAACAAAAAAEAAAQAAAAAAQAACgAAAAABAAAEAAAAAAEAAAAAAAAAAQAAAgAAAAABAAAKAAAAAAEAAAQAAAAAAQAAAAAAAAABAAACAAAAAAEAAAoAAAAAAQAABAAAAAABAAAAAAAAAAEAAAIAAAAAAQAACgAAAAABAAAEAAAAAAEAAAAAAAAAAQAAAgAAAAABAAAKAAAAAAEAAAQAAAAAAQAAAAAAAAABAAACAAAAAAEAAAoAAAAAAQAABAAAAAABAAAAAAAAAAEAAAIAAAAAAQAACgAAAAABAAAEAAAAAAEAAAAAAAAAAQAAAgAAAAABAAAKAAAAAAEAAAQAAAAAAQAAAAAAAAABAAACAAAAAAEAAAoAAAAAAQAABAAAAAABAAAAAAAAAAEAAAIAAAAAAQAACgAAAAABAAAEAAAAAAEAAAAAAAAAAQAAAgAAAAABAAAKAAAAAAEAAAQAAAAAAQAAAAAAAAABAAACAAAAAAEAAAoAAAAAAQAABAAAAAABAAAAAAAAAAEAAAIAAAAAAQAACgAAAAABAAAEAAAAAAEAAAAAAAAAAQAAAgAAAAABAAAKAAAAAAEAAAQAAAAAAQAAAAAAAAABAAACAAAAAAEAAAoAAAAAAQAABAAAAAABAAAAAAAAAAEAAAIAAAAAAQAACgAAAAABAAAEAAAAAAEAAAAAAAAAAQAAAgAAAAABAAAKAAAAAAEAAAQAAAAAAQAAAAAAAAABAAACAAAAAAEAAAoAAAAAAQAABAAAAAABAAAAAAAAAAEAAAIAAAAAAQAACgAAAAABAAAEAAAAAAEAAAAAAAAAAQAAAgAAAAABAAAKAAAAAAEAAAQAAAAAAQAAAAAAAAABAAACAAAAAAEAAAoAAAAAAQAABAAAAAABAAAAAAAAAAEAAAIAAAAAAQAACgAAAAABAAAEAAAAAAEAAAAAAAAAAQAAAgAAAAABAAAKAAAAAAEAAAQAAAAAAQAAAAAAAAABAAACAAAAAAEAAAoAAAAAAQAABAAAAAABAAAAAAAAAAEAAAIAAAAAAQAACgAAAAABAAAEAAAAAAEAAAAAAAAAAQAAAgAAAAABAAAKAAAAAAEAAAQAAAAAAQAAAAAAAAABAAACAAAAAAEAAAoAAAAAAQAABAAAAAABAAAAAAAAAAEAAAIAAAAAAQAACgAAAAABAAAEAAAAAAEAAAAAAAAAAQAAAgAAAAABAAAGAAAAAAEAAAIAAAAAAgAABAAAAAAcc3RzYwAAAAAAAAABAAAAAQAAAfYAAAABAAAH7HN0c3oAAAAAAAAAAAAAAfYAAAWTAAAAGQAAABwAAAAwAAAAFwAAABQAAAAUAAAAHgAAACsAAAAZAAAAFAAAABQAAAAXAAAAEAAAABMAAAATAAAAFwAAABAAAAATAAAAEwAAABcAAAAQAAAAEwAAABMAAAAXAAAAEAAAABMAAAATAAAAFwAAABAAAAATAAAAEwAAABcAAAAQAAAAEwAAABMAAAAXAAAAEAAAABMAAAATAAAAIAAAABQAAAASAAAAFAAAACcAAAAsAAAAFAAAABQAAAAgAAAAFAAAABMAAAATAAAAGwAAABIAAAAUAAAAFAAAABcAAAAQAAAAFAAAABQAAAAXAAAAEAAAABQAAAAUAAAAFwAAABAAAAAUAAAAFAAAABcAAAAQAAAAFAAAABQAAAAXAAAAEAAAABQAAAAUAAAAFwAAABAAAAAUAAAAFAAAABcAAAAQAAAAFAAAABQAAAAXAAAAEAAAABQAAAAUAAAAFwAAABAAAAAUAAAAFAAAABcAAAAQAAAAFAAAABQAAAAXAAAAEAAAABQAAAAUAAAAFwAAABAAAAAUAAAAFAAAABcAAAAQAAAAFAAAABQAAAAWAAAAEAAAABQAAAAUAAAAHgAAABYAAAAQAAAAFAAAABMAAAAgAAAAFAAAABMAAAAUAAAALQAAABUAAAATAAAAFAAAABcAAAAQAAAAFAAAABQAAAAXAAAAEAAAABQAAAAUAAAAFwAAABAAAAAUAAAAFAAAABcAAAAQAAAAFAAAABQAAAAXAAAAEAAAABQAAAAUAAAAFwAAABAAAAAUAAAAFAAAABcAAAAQAAAAFAAAABQAAAAXAAAAEAAAABQAAAAUAAAAFwAAABAAAAAUAAAAFAAAABcAAAAQAAAAFAAAABQAAAAkAAAAFAAAABMAAAAUAAAAFwAAABAAAAAkAAAAFAAAABcAAAAQAAAAFAAAABQAAAAXAAAAEAAAABQAAAAUAAAAGwAAACkAAAAUAAAAFAAAABcAAAAQAAAAFAAAABQAAAAXAAAAEAAAABQAAAAUAAAAKwAAABQAAAATAAAAFAAAABcAAAAQAAAAFAAAABQAAAAiAAAAFAAAABMAAAAUAAAAFwAAABAAAAAUAAAAFAAAABcAAAAQAAAAFAAAABQAAAAXAAAAEAAAABQAAAAUAAAAFwAAABAAAAAUAAAAFAAAABcAAAAQAAAAFAAAABQAAAAXAAAAEAAAABQAAAAUAAAAFwAAABAAAAAUAAAAFAAAACAAAAAUAAAAEwAAABQAAAAWAAAAEAAAABMAAAATAAAAHgAAAB4AAAAUAAAAFAAAABMAAAAgAAAAFgAAABQAAAAUAAACswAAABgAAAAVAAAADwAAABQAAAAUAAAAFwAAABAAAAAUAAAAFAAAABcAAAAQAAAAFAAAABQAAAAXAAAAEAAAABQAAAAUAAAAFwAAABAAAAAUAAAAFAAAABcAAAAQAAAAFAAAABQAAAAXAAAAEAAAABQAAAAUAAAAFgAAABAAAAAUAAAAFAAAAB4AAAAbAAAAFgAAABMAAAAUAAAAFwAAABAAAAAUAAAAFAAAABcAAAAQAAAAFAAAABQAAAAXAAAAEAAAABQAAAAUAAAAFwAAABAAAAAUAAAAFAAAACoAAAAUAAAAEwAAABMAAAAdAAAAFAAAABMAAAAUAAAAFwAAABAAAAAUAAAAFAAAABcAAAAQAAAAFAAAABQAAAAXAAAAJwAAABMAAAAUAAAAFwAAABAAAAAUAAAAFAAAABcAAAAQAAAAFAAAABQAAAAXAAAAEAAAABQAAAAUAAAAIAAAABQAAAATAAAAFAAAABcAAAAQAAAAEwAAABMAAAAXAAAAEAAAABMAAAATAAAAFwAAABAAAAATAAAAEwAAABcAAAAQAAAAEwAAABMAAAAXAAAAEAAAABMAAAATAAAAIAAAABQAAAAUAAAAEwAAABcAAAAQAAAAFAAAABQAAAAXAAAAEAAAABQAAAAUAAAAFwAAABAAAAAUAAAAFAAAABcAAAAQAAAAFAAAABQAAAAWAAAAEAAAABQAAAAUAAAAHgAAABYAAAAQAAAAFAAAABQAAAAXAAAAEAAAABQAAAAUAAAAFwAAABAAAAAUAAAAFAAAABcAAAAQAAAAFAAAABQAAAAXAAAAEAAAABQAAAAUAAAAFwAAABAAAAAUAAAAFAAAACAAAAAUAAAAEwAAABQAAAAXAAAAFAAAABQAAAAUAAAAHQAAABQAAAAUAAAAEwAAABcAAAAQAAAAFAAAABQAAAAXAAAAEAAAABQAAAAUAAAAFwAAABAAAAAUAAAAFAAAABcAAAAQAAAAFAAAABQAAAAXAAAAEAAAABQAAAAUAAAAFwAAABAAAAAUAAAAFAAAABcAAAAQAAAAFAAAABQAAAAXAAAAEAAAABQAAAAUAAAAFwAAABAAAAAUAAAAFAAAABcAAAAQAAAAFAAAABQAAAAXAAAAEAAAABQAAAAUAAAAFwAAABAAAAAUAAAAFAAAABcAAAAQAAAAFAAAABQAAAAXAAAAEAAAABQAAAAUAAAAFwAAABAAAAAUAAAAFAAAABcAAAAQAAAAFAAAABQAAAAXAAAAEAAAABQAAAAUAAAAFgAAABAAAAAUAAAAFAAAABYAAAAQAAAAFAAAABQAAAAXAAAAFAAAAl8AAAAXAAAAFHN0Y28AAAAAAAAAAQAAADAAAABidWR0YQAAAFptZXRhAAAAAAAAACFoZGxyAAAAAAAAAABtZGlyYXBwbAAAAAAAAAAAAAAAAC1pbHN0AAAAJal0b28AAAAdZGF0YQAAAAEAAAAATGF2ZjU2LjM2LjEwMA==\" type=\"video/mp4\" />\n",
       "             </video>"
      ],
      "text/plain": [
       "<IPython.core.display.HTML object>"
      ]
     },
     "execution_count": 62,
     "metadata": {},
     "output_type": "execute_result"
    }
   ],
   "source": [
    "HTML(display_videos('fc_test9.mp4'))"
   ]
  },
  {
   "cell_type": "markdown",
   "metadata": {},
   "source": [
    "#### Observed issue:\n",
    "\n",
    "The rat tends to get blocked on a side when it has eaten all the cheese in his vision area. In otherwords, the rat tends not to explore enough the map. \n",
    "\n",
    "#### FCN vs CNN\n",
    "\n",
    "The CNN model seems to be much more efficient than the FCN. With CNN, the rat movement is often very natural. With FCN, it always get stuck!\n",
    "\n",
    "#### Temperature\n",
    "\n",
    "With high temperatures there are a lot of pieces of cheese and these pieces are often grouped together. The higher is the temperature and the better are the results. Moreover, my impression is that when T is big, the rat is much more afraid of making a mistake and does everything not to eat poision. \n"
   ]
  },
  {
   "cell_type": "markdown",
   "metadata": {},
   "source": []
  },
  {
   "cell_type": "markdown",
   "metadata": {},
   "source": [
    "***\n",
    "\n",
    "The algorithm tends to not explore the map which can be an issue. We propose two ideas in order to encourage exploration:\n",
    "1. Incorporating a decreasing $\\epsilon$-greedy exploration. You can use the method ```set_epsilon```\n",
    "2. Append via the environment a new state that describes if a cell has been visited or not\n",
    "\n",
    "***\n",
    "__Question 10__ Design a new ```train_explore``` function and environment class ```EnvironmentExploring``` to tackle the issue of exploration.\n",
    "\n"
   ]
  },
  {
   "cell_type": "code",
   "execution_count": 66,
   "metadata": {
    "collapsed": true
   },
   "outputs": [],
   "source": [
    "def train_explore(agent,env,epoch,prefix=''):\n",
    "    # Number of won games\n",
    "    score = 0\n",
    "    loss = 0\n",
    "\n",
    "    for e in range(epoch):\n",
    "        agent.set_epsilon(0.6 - (0.6 - 0.1)*e/epoch)\n",
    "        # At each epoch, we restart to a fresh game and get the initial state\n",
    "        state = env.reset()\n",
    "        # This assumes that the games will terminate\n",
    "        game_over = False\n",
    "\n",
    "        win = 0\n",
    "        lose = 0\n",
    "\n",
    "        while not game_over:\n",
    "            # The agent performs an action\n",
    "            action = agent.act(state)\n",
    "\n",
    "            # Apply an action to the environment, get the next state, the reward\n",
    "            # and if the games end\n",
    "            prev_state = state\n",
    "            state, reward, game_over = env.act(action, train=True)\n",
    "\n",
    "            # Update the counters\n",
    "            if reward > 0:\n",
    "                win = win + reward\n",
    "            if reward < 0:\n",
    "                lose = lose -reward\n",
    "\n",
    "            # Apply the reinforcement strategy\n",
    "            loss = agent.reinforce(prev_state, state,  action, reward, game_over)\n",
    "\n",
    "        # Save as a mp4\n",
    "        if e % 10 == 0:\n",
    "            env.draw(prefix+str(e))\n",
    "\n",
    "        # Update stats\n",
    "        score += win-lose\n",
    "\n",
    "        print(\"Epoch {:03d}/{:03d} | Loss {:.4f} | Win/lose count {}/{} ({})\"\n",
    "              .format(e, epoch, loss, win, lose, win-lose))\n",
    "        agent.save(name_weights=prefix+'model.h5',name_model=prefix+'model.json')\n",
    "\n",
    "        \n",
    "class EnvironmentExploring(object):\n",
    "    def __init__(self, grid_size=10, max_time=500, temperature=0.1):\n",
    "        grid_size = grid_size+4\n",
    "        self.grid_size = grid_size\n",
    "        self.max_time = max_time\n",
    "        self.temperature = temperature\n",
    "\n",
    "        #board on which one plays\n",
    "        self.board = np.zeros((grid_size,grid_size))\n",
    "        self.position = np.zeros((grid_size,grid_size))\n",
    "        self.malus_position=np.zeros((grid_size,grid_size))\n",
    "\n",
    "        # coordinate of the cat\n",
    "        self.x = 0\n",
    "        self.y = 1\n",
    "\n",
    "        # self time\n",
    "        self.t = 0\n",
    "\n",
    "        self.scale=16\n",
    "\n",
    "        self.to_draw = np.zeros((max_time+2, grid_size*self.scale, grid_size*self.scale, 3))\n",
    "\n",
    "    def draw(self,e):\n",
    "        skvideo.io.vwrite(str(e) + '.mp4', self.to_draw)\n",
    "\n",
    "    def get_frame(self,t):\n",
    "        b = np.zeros((self.grid_size,self.grid_size,3))+128\n",
    "        b[self.board>0,0] = 256\n",
    "        b[self.board < 0, 2] = 256\n",
    "        b[self.x,self.y,:]=256\n",
    "        b[-2:,:,:]=0\n",
    "        b[:,-2:,:]=0\n",
    "        b[:2,:,:]=0\n",
    "        b[:,:2,:]=0\n",
    "        \n",
    "        b =  cv2.resize(b, None, fx=self.scale, fy=self.scale, interpolation=cv2.INTER_NEAREST)\n",
    "\n",
    "        self.to_draw[t,:,:,:]=b\n",
    "\n",
    "\n",
    "    def act(self, action, train=False):\n",
    "\n",
    "        self.get_frame(int(self.t))\n",
    "\n",
    "        self.position = np.zeros((self.grid_size, self.grid_size))\n",
    "\n",
    "        self.position[0:2,:]= -1\n",
    "        self.position[:,0:2] = -1\n",
    "        self.position[-2:, :] = -1\n",
    "        self.position[-2:, :] = -1\n",
    "\n",
    "        self.position[self.x, self.y] = 1\n",
    "        if action == 0:\n",
    "            if self.x == self.grid_size-3:\n",
    "                self.x = self.x-1\n",
    "            else:\n",
    "                self.x = self.x + 1\n",
    "        elif action == 1:\n",
    "            if self.x == 2:\n",
    "                self.x = self.x+1\n",
    "            else:\n",
    "                self.x = self.x-1\n",
    "        elif action == 2:\n",
    "            if self.y == self.grid_size - 3:\n",
    "                self.y = self.y - 1\n",
    "            else:\n",
    "                self.y = self.y + 1\n",
    "        elif action == 3:\n",
    "            if self.y == 2:\n",
    "                self.y = self.y + 1\n",
    "            else:\n",
    "                self.y = self.y - 1\n",
    "        else:\n",
    "            RuntimeError('Error: action not recognized')\n",
    "\n",
    "        self.t = self.t + 1\n",
    "        reward = 0\n",
    "        if train:\n",
    "            reward = -self.malus_position[self.x, self.y]\n",
    "        self.malus_position[self.x, self.y] = 0.1\n",
    "        reward = reward + self.board[self.x, self.y]\n",
    "        self.board[self.x, self.y] = 0\n",
    "        game_over = self.t > self.max_time\n",
    "        state = np.concatenate((self.malus_position.reshape(self.grid_size, self.grid_size,1),\n",
    "                                self.board.reshape(self.grid_size, self.grid_size,1),\n",
    "                        self.position.reshape(self.grid_size, self.grid_size,1)),axis=2)\n",
    "        state = state[self.x-2:self.x+3,self.y-2:self.y+3,:]\n",
    "\n",
    "        return state, reward, game_over\n",
    "\n",
    "    def reset(self):\n",
    "        \"\"\"This function resets the game and returns the initial state\"\"\"\n",
    "\n",
    "        self.x = np.random.randint(3, self.grid_size-3, size=1)[0]\n",
    "        self.y = np.random.randint(3, self.grid_size-3, size=1)[0]\n",
    "\n",
    "\n",
    "        bonus = 0.5*np.random.binomial(1,self.temperature,size=self.grid_size**2)\n",
    "        bonus = bonus.reshape(self.grid_size,self.grid_size)\n",
    "\n",
    "        malus = -1.0*np.random.binomial(1,self.temperature,size=self.grid_size**2)\n",
    "        malus = malus.reshape(self.grid_size, self.grid_size)\n",
    "\n",
    "        self.to_draw = np.zeros((self.max_time+2, self.grid_size*self.scale, self.grid_size*self.scale, 3))\n",
    "\n",
    "\n",
    "        malus[bonus>0]=0\n",
    "\n",
    "        self.board = bonus + malus\n",
    "        \n",
    "        self.malus_position = np.zeros((self.grid_size, self.grid_size))\n",
    "        self.position = np.zeros((self.grid_size, self.grid_size))\n",
    "        self.position[0:2,:]= -1\n",
    "        self.position[:,0:2] = -1\n",
    "        self.position[-2:, :] = -1\n",
    "        self.position[-2:, :] = -1\n",
    "        self.board[self.x,self.y] = 0\n",
    "        self.t = 0\n",
    "\n",
    "        state = np.concatenate((self.malus_position.reshape(self.grid_size, self.grid_size,1),\n",
    "                                self.board.reshape(self.grid_size, self.grid_size,1),\n",
    "                        self.position.reshape(self.grid_size, self.grid_size,1)),axis=2)\n",
    "\n",
    "        state = state[self.x - 2:self.x + 3, self.y - 2:self.y + 3, :]\n",
    "        return state\n"
   ]
  },
  {
   "cell_type": "code",
   "execution_count": 67,
   "metadata": {
    "collapsed": false
   },
   "outputs": [
    {
     "name": "stdout",
     "output_type": "stream",
     "text": [
      "Epoch 000/011 | Loss 0.1052 | Win/lose count 23.5/60.20000000000041 (-36.70000000000041)\n",
      "Epoch 001/011 | Loss 0.1518 | Win/lose count 26.0/54.60000000000038 (-28.600000000000378)\n",
      "Epoch 002/011 | Loss 0.1268 | Win/lose count 18.0/59.90000000000035 (-41.90000000000035)\n",
      "Epoch 003/011 | Loss 0.1266 | Win/lose count 19.0/54.20000000000039 (-35.20000000000039)\n",
      "Epoch 004/011 | Loss 0.1147 | Win/lose count 24.5/50.40000000000031 (-25.90000000000031)\n",
      "Epoch 005/011 | Loss 0.0974 | Win/lose count 22.0/51.30000000000041 (-29.30000000000041)\n",
      "Epoch 006/011 | Loss 0.1336 | Win/lose count 22.5/44.30000000000035 (-21.800000000000352)\n",
      "Epoch 007/011 | Loss 0.2115 | Win/lose count 23.0/47.90000000000042 (-24.900000000000418)\n",
      "Epoch 008/011 | Loss 0.1791 | Win/lose count 12.5/48.90000000000042 (-36.40000000000042)\n",
      "Epoch 009/011 | Loss 0.1041 | Win/lose count 25.5/42.00000000000029 (-16.50000000000029)\n",
      "Epoch 010/011 | Loss 0.2482 | Win/lose count 25.0/44.0000000000003 (-19.0000000000003)\n"
     ]
    },
    {
     "data": {
      "text/html": [
       "<video alt=\"test\" controls>\n",
       "                <source src=\"data:video/mp4;base64,AAAAIGZ0eXBpc29tAAACAGlzb21pc28yYXZjMW1wNDEAAAAIZnJlZQAANPNtZGF0AAACrgYF//+q3EXpvebZSLeWLNgg2SPu73gyNjQgLSBjb3JlIDE0NiByMjUzOCAxMjEzOTZjIC0gSC4yNjQvTVBFRy00IEFWQyBjb2RlYyAtIENvcHlsZWZ0IDIwMDMtMjAxNSAtIGh0dHA6Ly93d3cudmlkZW9sYW4ub3JnL3gyNjQuaHRtbCAtIG9wdGlvbnM6IGNhYmFjPTEgcmVmPTMgZGVibG9jaz0xOjA6MCBhbmFseXNlPTB4MzoweDExMyBtZT1oZXggc3VibWU9NyBwc3k9MSBwc3lfcmQ9MS4wMDowLjAwIG1peGVkX3JlZj0xIG1lX3JhbmdlPTE2IGNocm9tYV9tZT0xIHRyZWxsaXM9MSA4eDhkY3Q9MSBjcW09MCBkZWFkem9uZT0yMSwxMSBmYXN0X3Bza2lwPTEgY2hyb21hX3FwX29mZnNldD00IHRocmVhZHM9MTIgbG9va2FoZWFkX3RocmVhZHM9MiBzbGljZWRfdGhyZWFkcz0wIG5yPTAgZGVjaW1hdGU9MSBpbnRlcmxhY2VkPTAgYmx1cmF5X2NvbXBhdD0wIGNvbnN0cmFpbmVkX2ludHJhPTAgYmZyYW1lcz0zIGJfcHlyYW1pZD0yIGJfYWRhcHQ9MSBiX2JpYXM9MCBkaXJlY3Q9MSB3ZWlnaHRiPTEgb3Blbl9nb3A9MCB3ZWlnaHRwPTIga2V5aW50PTI1MCBrZXlpbnRfbWluPTI1IHNjZW5lY3V0PTQwIGludHJhX3JlZnJlc2g9MCByY19sb29rYWhlYWQ9NDAgcmM9Y3JmIG1idHJlZT0xIGNyZj0yMy4wIHFjb21wPTAuNjAgcXBtaW49MCBxcG1heD02OSBxcHN0ZXA9NCBpcF9yYXRpbz0xLjQwIGFxPTE6MS4wMACAAAAC4mWIhAA3//72h/gU2VgTun/9P+C6zp85f52wATTYAUhuYKf7hNF8CmWxa/AoXQOscaX15In+DPNRFToS//5Tf/IbXaSwqxSZhiHfeOg1StKQXFCycYCKGBO8YQ85+Entw9pdGEcFwLnNcZa7Rx3xXxn8T7Vy133OZtTbbDNWEmGzfU40KTmYsY3v8SnYMO77f0G3hZcDIv25XBbkAwheDWC7M/H4BFVuaQ4t+G9jidrpMaesbYWoTXdZGf5YlLllv8sacc01/ntO0AUYysPL2G0GJJYL74HpErzFD6N21p5s4XK9+WroczU/HRibHcShNQACi+igpoeozC1REFUHczUmeYLynBjUcVbXpApGy/jRqO8ecKUUx0n6OF5KMDgT6y9UCNJRI58YpdrufuXtqgWrVkRSOhPXXUmtJgl8fFLKTEZ204N/Zcj174p0mq592yh+K5PsEw9XFOvDwaV2zVs8hDzc1Hv5qVrejQHgKxlP04PK/4/wWSsSt249j1+DKZPw5ZRYy8vTsPnhLVpiFSITpSPilxIKVAtMuF6fFYXIxeKpjDgwwzkRj1ethWyEA5H+dhJSpwMZtJzybXf+K9yGsEYeI7k8IUp5qF/vCMZgbc28Eow2BcYuzblK2VDatXEAot3/BRr8A8EUn5ypkZejr4MpA1VNy6sVVDwC/D9q0avrWlQq7EW/1WzAxZvkN7Y8/yrO0B8QLCnDEgNqwkn70OuNOPLAyu4c3kOnQCFbIClwhGVErqS0CKaHx4aaZ6rLxOGL1P7SUceikhpjoIVhDGIjM3TFR/JmTotYJh6N2990ksZoGfABamfhzKfmUR9G+h+y0qPAvLpS3p35tAYML90TjAF/HrxcQZPyYQG85w8uqINsDxYLxLxOjJX1PbxASZy1l4ux5siB+10Egma0rw66KlB2K0BbyAcumQomsINfx8ii+jZ2Ni1OlwT1xwN9Byae+Qw/rOFD3WYEfCARMQAAABVBmiFsQ3/+p4QCIuazbJJ+ghn6YRcAAAAbQZpFPCGTKYQ3//6nhAIp5HBs/vciuBbmbPSBAAAAD0GeY2pTwv8BDs/QcodHNAAAAA8BnoJ0Qr8CX2Kxgv7QcEEAAAAQAZ6EakK/AXVtyKvAE/lBgQAAABpBmoZJqEFomUwIb//+p4QAwrq0ghE/y2z7gQAAAChBmqpJ4QpSZTAhn/6eEAMLIY59IL+SCX+GZk/iEojf//EIyVH/9FhxAAAAFkGeyEU0TC//AHa+0KnRyuRMmCsAhYAAAAAQAZ7ndEK/AKPaO8rZQ9IJgAAAABABnulqQr8AaYjtzrQwvHTBAAAAGUGa60moQWiZTAhn//6eEAE/5ldLIY/MgtgAAAAYQZsMSeEKUmUwIb/+p4QANP7B69mfBFhJAAAAGUGbLUnhDomUwIb//qeEADO+wf4Tgt0Jb0EAAAAZQZtOSeEPJlMCHf/+qZYAEJ6tkNsQbuplQQAAACtBm3JJ4Q8mUwIb//6nhAAVr3U/asKv+DFqFdi9cCmvqBbgUqWTcCmdgNNhAAAAFEGfkEURPC//AAzgikXfG3ITceK5AAAAEAGfr3RCvwARV2Y4D8oAG6AAAAAQAZ+xakK/AAdAIBOvAFB7gQAAABpBm7NJqEFomUwId//+qZYAAegdPymjH61lwAAAABpBm9dJ4QpSZTAh3/6plgAEoXiDrar/i9z98AAAABRBn/VFNEwv/wAFioEFU1xsaXpnsQAAABABnhR0Qr8ABNhAHO2ONPugAAAAEAGeFmpCvwAHbZg8mB6+XYEAAAAXQZobSahBaJlMCHf//qmWAATH6OfkxmEAAAAUQZ45RREsL/8ABa2QL5sHTOW7ZoAAAAAQAZ5YdEK/AAeZsDW0yh7oQQAAABABnlpqQr8AB5ecNe80rRnAAAAAJ0GaX0moQWyZTAhv//6nhAAVH26eZZVtlPwKS0D+BTLaOUV7DO0KwQAAABVBnn1FFSwv/wAMkq8Y3uVyIveeEbEAAAAQAZ6cdEK/AAteaJE+LMUr8AAAABABnp5qQr8AEVeaJkTSs9TAAAAAI0Gag0moQWyZTAhn//6eEAEu+c3xacXwKbS3az1h6YmhGLcZAAAAFkGeoUUVLC//AC6T69XAD5iK+f8A6iAAAAAQAZ7AdEK/ACj5lPA6ZTfqgQAAABABnsJqQr8APhzhr3mlZv/AAAAAHEGaxEmoQWyZTAhn//6eEAHEKcc/hz4gcP8I7oEAAAAXQZrlSeEKUmUwIZ/+nhACwcGOfpf3Jb0AAAAYQZsGSeEOiZTAhn/+nhAEMOEc/hzm+so/AAAAGUGbJ0nhDyZTAhv//qeEAewwxqfejn1Ek4EAAAAYQZtISeEPJlMCG//+p4QCBHzHkYn+I2LKAAAAGEGbaUnhDyZTAh3//qmWARPZzpUtyqSZgAAAABZBm41J4Q8mUwId//6plgEn76vsYI+BAAAAFEGfq0URPC//ARafIbbsPmIsKt+AAAAAEAGfynRCvwF/eTeVsoejdUAAAAAQAZ/MakK/AXWyITcZ9emouQAAABNBm9FJqEFomUwId//+qZYAAJWBAAAADEGf70URLC//AACygQAAABABng50Qr8BcbKO/AB9ulfAAAAAEAGeEGpCvwFxso72ePt0r4AAAAATQZoVSahBbJlMCHf//qmWAACVgQAAAAxBnjNFFSwv/wAAsoAAAAAQAZ5SdEK/AXGyjvwAfbpXwAAAABABnlRqQr8BcbKO9nj7dK+BAAAAH0GaWUmoQWyZTAh3//6plgEX8efwwPp3cyyz59mTs4AAAAAQQZ53RRUsL/8BDs/QcodHNQAAAA8BnpZ0Qr8BdYxi4D8s9CEAAAAQAZ6YakK/AXVtyKvAE/lBgAAAABtBmp1JqEFsmUwId//+qZYAYLi9GFenItFi1tEAAAAQQZ67RRUsL/8AcVOj0UOomAAAAA8Bntp0Qr8AmtoxcB+WnWEAAAAQAZ7cakK/AJrK5FXgCf0lgQAAAClBmsFJqEFsmUwId//+qZYAKF76vwFrS+k9/8Cmuk5rgUojtcCma5MhSAAAACRBnv9FFSwv/wAyemD//4/yemhqfxl8PkOQpo32P+T8hJ+PEaYAAAAPAZ8edEK/AEN8wYNmOJQXAAAADwGfAGpCvwBDZXIq8AT/IwAAABhBmwVJqEFsmUwId//+qZYAEh+R2//dBBEAAAAOQZ8jRRUsK/8AHQCC+8AAAAAPAZ9CdEK/AB0GwNDznl5bAAAAEAGfRGpCvwAsUbXdZDDk2sEAAAASQZtJSahBbJlMCG///qeEAAEnAAAADEGfZ0UVLC//AACygQAAAA8Bn4Z0Qr8AHAwd3I9abT4AAAAPAZ+IakK/ABwMHc5SO5p8AAAAEkGbjUmoQWyZTAhv//6nhAABJwAAAAxBn6tFFSwv/wAAsoAAAAAPAZ/KdEK/ABwMHgWwH5e1AAAADwGfzGpCvwAcDB4Ebr/BBwAAABJBm9FJqEFsmUwIX//+jLAABI0AAAAMQZ/vRRUsL/8AALKBAAAADwGeDnRCvwAcDB3cj1ptPgAAAA8BnhBqQr8AHAwdzlI7mnwAAAAcQZoVSahBbJlMCHf//qmWABqILOUGaBT6Mfpk7wAAABBBnjNFFSwv/wAfFOo3sEt0AAAADwGeUnRCvwAcUvQGSXNPgAAAABABnlRqQr8AKzZEJuM+vT15AAAAEkGaWUmoQWyZTAhv//6nhAABJwAAAAxBnndFFSwv/wAAsoEAAAAPAZ6WdEK/ACxWjujtvhYHAAAADwGemGpCvwAsSjRBajy7xwAAABJBmp1JqEFsmUwIb//+p4QAAScAAAAMQZ67RRUsL/8AALKAAAAADwGe2nRCvwAsVo7o7b4WBwAAAA8BntxqQr8ALEo0QWo8u8cAAAASQZrBSahBbJlMCG///qeEAAEnAAAAFEGe/0UVLCv/ACq//KlwDzff9aroAAAAEAGfHnRCvwAsVo7ytlD03cEAAAAQAZ8AakK/ACxKNEyJpWcdwAAAABJBmwVJqEFsmUwIX//+jLAABI0AAAAMQZ8jRRUsL/8AALKAAAAADwGfQnRCvwAsVo7o7b4WBwAAAA8Bn0RqQr8ALEo0QWo8u8cAAAAaQZtGSahBbJlMCF///oywANQtLUouR/6NWfEAAAAaQZtqSeEKUmUwIb/+p4QAUcKlZtzXjp9q8uEAAAAQQZ+IRTRMK/8AQXaIYXXUcAAAAA8Bn6d0Qr8ALXaO884t3oAAAAAQAZ+pakK/AENeaJkTSs33QQAAABpBm6tJqEFomUwIb//+p4QAfA4z/Vb5j8Q1IAAAABtBm89J4QpSZTAhn/6eEALlXuuI5/SOvv6XtuAAAAAQQZ/tRTRML/8AcT+KvIoRYQAAABABngx0Qr8An3QDnbHGmgthAAAADwGeDmpCvwCbBrAuv7+UwQAAABpBmhBJqEFomUwIb//+p4QAwrq0ghE/y2z7gAAAABlBmjFJ4QpSZTAhv/6nhADHurSCET/LbPWAAAAAGEGaUknhDomUwId//qmWAGegsrOK05CxYQAAABtBmnZJ4Q8mUwId//6plgBoPaX/aZjKLS+GtSAAAAAVQZ6URRE8L/8AeX/2Jwg9nTtZaW44AAAAEAGes3RCvwCoJzHAfZzIseEAAAAQAZ61akK/AJ9ZEJuM+vTaSAAAABxBmrpJqEFomUwId//+qZYAYz2l/X9VqFkKXPZfAAAAEEGe2EURLC//AHP/h66wlsEAAAAQAZ73dEK/AJ8mtGSW/1t/gAAAAA8BnvlqQr8AmtrXd93vBsEAAAAdQZr+SahBbJlMCHf//qmWAEBBKAC0WeFvaNdUP90AAAASQZ8cRRUsL/8AdBrrm+ZIgKGZAAAAEAGfO3RCvwCfZaoHTtQ1XoEAAAAQAZ89akK/AJ83IYfQEg4sqAAAABlBmyJJqEFsmUwId//+qZYAYq50j++r7tIuAAAAFUGfQEUVLC//AHQTqM4nHa76LK5DzQAAABABn390Qr8AaYAAMkt/reLAAAAAEAGfYWpCvwCfWPHK/tw+osEAAAATQZtmSahBbJlMCHf//qmWAACVgAAAABNBn4RFFSwv/wB0Ils1Myy5DQlHAAAAEAGfo3RCvwCfJrRklv9bf4EAAAAPAZ+lakK/AJ9YR5MD17b/AAAAE0GbqkmoQWyZTAh3//6plgAAlYEAAAAQQZ/IRRUsL/8AdCJbN+j34QAAABABn+d0Qr8Anya0ZJb/W3+AAAAADwGf6WpCvwCfWEeTA9e2/wAAABNBm+5JqEFsmUwId//+qZYAAJWAAAAAEEGeDEUVLC//AHQiWzfo9+EAAAAQAZ4rdEK/AJ8mtGSW/1t/gQAAAA8Bni1qQr8An1hHkwPXtv8AAAATQZoySahBbJlMCHf//qmWAACVgQAAABBBnlBFFSwv/wB0Ils36PfhAAAAEAGeb3RCvwCfJrRklv9bf4AAAAAPAZ5xakK/AJ9YR5MD17b/AAAAGUGadkmoQWyZTAh3//6plgBjPaX9f12jHW0AAAAQQZ6URRUsL/8Ac/+HrrCWwAAAABABnrN0Qr8Anya0ZJb/W3+BAAAADwGetWpCvwCa2td33e8GwAAAABNBmrpJqEFsmUwId//+qZYAAJWBAAAAEEGe2EUVLC//AHQa6zd3QlsAAAAQAZ73dEK/AJ9lqgdO1DVegAAAABABnvlqQr8AnzXznWhheK9BAAAAEkGa/kmoQWyZTAhv//6nhAABJwAAABBBnxxFFSwv/wB0Ils36PfhAAAAEAGfO3RCvwCfZaoHTtQ1XoEAAAAQAZ89akK/AJ81851oYXivQAAAAB1BmyJJqEFsmUwIb//+p4QBJZHyzFBiFav7/sigmAAAABJBn0BFFSwv/wCxUCLHucbGwU0AAAAQAZ9/dEK/AJ9lqgdO1DVegAAAABABn2FqQr8A8nOGveaVm0HBAAAAGkGbY0moQWyZTAhv//6nhAIiEFm2STT9MIuAAAAAGUGbh0nhClJlMCGf/p4QCC+If3tE3+gF6tsAAAAQQZ+lRTRML/8BDqAzXWDJwQAAABABn8R0Qr8BdU1oyS3+tm9BAAAADwGfxmpCvwDn2BLlf37vQQAAABlBm8hJqEFomUwIZ//+nhAEV6bdLIY/MexYAAAAGEGb6UnhClJlMCGf/p4QAtfMq8t0My2zcAAAABhBmgpJ4Q6JlMCG//6nhAC1+6nH+H1bbRMAAAAgQZouSeEPJlMCF//+jLACu/Fz5S/Q4G1EOeZZYmRxPqgAAAAUQZ5MRRE8L/8AaYRSLvjbk0sL/5gAAAAQAZ5rdEK/AI67McB+T/9WYQAAABABnm1qQr8AO2EAnXgCf6WBAAAAGkGab0moQWiZTAhX//44QAHR9S1PbMJJhO2hAAAAGUGakEnhClJlMCFf/jhAAsOnsaQnlqf3OFAAAAApQZq0SeEOiZTAhn/+nhAD9/COrzLLGFT8yyYOA8yt+RUPzjc+RcRay7cAAAAUQZ7SRRE8L/8An1Aac23Syz8KwXEAAAAQAZ7xdEK/AFrzKeB0ym7mgAAAABABnvNqQr8A17tRyv7cPofAAAAAGUGa9UmoQWiZTAhv//6nhAHBcZ/qJ6ENb0EAAAAYQZsWSeEKUmUwIb/+p4QBxuwevZnwKOn+AAAAGEGbN0nhDomUwIb//qeEAbLMriZQW9KSgwAAACFBm1tJ4Q8mUwIb//6nhAD98Jl1Yqym6J+EGzwKbIwSOakAAAAWQZ95RRE8L/8Ams9a5ZL6LLAzzF7tIAAAABABn5h0Qr8A0oAAZJb/W2LBAAAAEAGfmmpCvwCCyuiqzu9bqWAAAAAaQZucSahBaJlMCHf//qmWACI/Hn79kG4qE+EAAAAoQZugSeEKUmUwIb/+p4QALZzK4AH+bzGBRGyjcNf/4SpY8//ztO0vNQAAABZBn95FNEwr/wAksm34UIOn+khnRxF8AAAAEAGf/XRCvwAku47ytlD0+YAAAAAQAZ//akK/ABfiZJpvpIOdMQAAABpBm+FJqEFomUwId//+qZYACc9WyG2IN3VWwAAAABtBmgVJ4QpSZTAh3/6plgAKCCOa3iEc8+28nc0AAAAUQZ4jRTRML/8AC/KtGupK7p1yeZkAAAAQAZ5CdEK/AAqFo7ytlD2dgQAAABABnkRqQr8AD+M8C6/txB+hAAAAH0GaSUmoQWiZTAh3//6plgAmPyU28yyvE6OUPX/Y7NcAAAAVQZ5nRREsK/8APMz2fJeQmOmSp0W5AAAADwGehnRCvwAZySzcGyXkgwAAABABnohqQr8APMzwLr+3D85gAAAAJEGajUmoQWyZTAh3//6plgAmPx5/3OO5fEIOv/wlVDN//xb5eQAAABVBnqtFFSwv/wBDY+dM4rt7DYk2qDAAAAAQAZ7KdEK/AF0zRInxZijhcAAAABABnsxqQr8AXRr5zrQwvIBBAAAAE0Ga0UmoQWyZTAh3//6plgAAlYEAAAAMQZ7vRRUsL/8AALKBAAAADwGfDnRCvwA5eDwLYD8uDQAAAA8BnxBqQr8AOXg8CN1/gD0AAAATQZsVSahBbJlMCHf//qmWAACVgQAAAAxBnzNFFSwv/wAAsoAAAAAPAZ9SdEK/ADl4PAtgPy4NAAAADwGfVGpCvwA5eDwI3X+APQAAABNBm1lJqEFsmUwId//+qZYAAJWAAAAADEGfd0UVLC//AACygQAAAA8Bn5Z0Qr8AOXg8C2A/Lg0AAAAPAZ+YakK/ADl4PAjdf4A9AAAAE0GbnUmoQWyZTAh3//6plgAAlYEAAAAMQZ+7RRUsL/8AALKAAAAADwGf2nRCvwA5eDwLYD8uDQAAAA8Bn9xqQr8AOXg8CN1/gD0AAAATQZvBSahBbJlMCHf//qmWAACVgAAAAAxBn/9FFSwv/wAAsoAAAAAPAZ4edEK/ADl4PAtgPy4NAAAADwGeAGpCvwA5eDwI3X+APQAAABJBmgVJqEFsmUwIb//+p4QAAScAAAAMQZ4jRRUsL/8AALKAAAAADwGeQnRCvwA5eDwLYD8uDQAAAA8BnkRqQr8AOXg8CN1/gD0AAAASQZpJSahBbJlMCGf//p4QAAR9AAAADEGeZ0UVLC//AACygQAAAA8BnoZ0Qr8AO22Boec8u1MAAAAPAZ6IakK/ADl4PAjdf4A9AAAAG0GajUmoQWyZTAhX//44QAQ7ok37pZFYD9IN6QAAABBBnqtFFSwv/wArNAgpQxKYAAAADwGeynRCvwA6Bfi4D8uDQAAAAA8BnsxqQr8AOgD+qRQJVccAAAAZQZrRSahBbJlMCG///qeEAEdUHd2+wfrivQAAABBBnu9FFSwv/wArLLBPjfbBAAAADwGfDnRCvwA6EYeUNAzVxwAAAA8BnxBqQr8AOhYEuV/gD0AAAAASQZsVSahBbJlMCGf//p4QAAR9AAAADEGfM0UVLC//AACygAAAAA8Bn1J0Qr8AO22Boec8u1MAAAAPAZ9UakK/ADl4PAjdf4A9AAAAG0GbWUmoQWyZTAhX//44QAQ7ok37pZFYD9IN6AAAABBBn3dFFSwv/wArNAgpQxKZAAAADwGflnRCvwA6Bfi4D8uDQQAAAA8Bn5hqQr8AOgD+qRQJVccAAAIIZYiCAA///vcj/ApteYb3T//c/41brlWpIDI+ATEuQEbxucT/ijaj4FM66w+BRa6J2GxC/4QeJMNTin2T8V//3Tf/RiPcPpjLybLMRe7keQnVlsrVC5DOVOg0KoE9X5DJ3E2ME/QrDj0kEQbs0uw8l87PKM0bRsl1RRMea7xfTRkcPCCMeNfksaE80517DznBFdJ3DaZq61EHrZwrbP8rVuAVEtD+jyWaouKyI8tY18hxo7XH527DluSypAZtBWPKqq2xwkfEP8482uKL4ACAHgABDseVY1tjkpAIi91Em/kfJl3BPBItmn/AgZP3GLU+af7TvUXfIugsqKHh/d9fFKyw0Gith7gES61GUthACHWj0E9nQfXBEB7xJJMgARzYGaY8UKYddyjLWyHEfRoiA0vf6v/T0HOBhucK7E5X7zHz28dxY4YLjTUYcaw44XUA+4BDEeyP5qITGmVoqAb9+Qxw5GPKtWYD/1C77nt8B10q8jwie12YhpDpizuqxQkMAzPfi2f5HlQEx+QaC5qb23eD3xYS2jxyRCwiVb0ac3dog4+qXyvZ+zIHLvJNI3CzKlAO5PirpQ5JwxiRYVAz4GFpfdUUqfdQoqB/ADEnfUq3TaNEct3B5NWLIJHOi9GoJKXGAJoKqGSo6YhQKgJpF1ovgVEU2n5uhWDWJtLuNigDbc9oiBYCiwAAABNBmiFsQ3/+p4QARbptc/z/7bs4AAAAGEGaQjwhkymEN//+p4QAaWkT/Vb5j8Q+YQAAABlBmmNJ4Q8mUwId//6plgA1XtLwtQT+wEDBAAAAKUGah0nhDyZTAhv//qeEAGd99n2q2XSN06hg3MsrxgV4FMtm5cChRnmGAAAAFEGepUURPC//ADy/sr1j/0GNzYCuAAAAEAGexHRCvwBUE5jgPyf/vuEAAAAQAZ7GakK/ACKyuiqzj8CDYAAAAB9BmstJqEFomUwIZ//+nhAAaf39/Qqu5dO2AQuHiTRBAAAAEUGe6UURLC//AA/f7K8l2rJIAAAAEAGfCHRCvwAWJOY4D8oAEKEAAAAPAZ8KakK/AAkwaB5MEj6BAAAAGUGbDEmoQWyZTAhv//6nhAALnitIIRP8t8sAAAAXQZstSeEKUmUwIb/+p4QAC+urR1UNt8MAAAAZQZtOSeEOiZTAh3/+qZYABgvaX87pCmEtsAAAACRBm3JJ4Q8mUwIb//6nhAAHy+A3/8zD772gwfcCmtVjsP7jtkoAAAAVQZ+QRRE8L/8ABLZ62IKJXzp2ssGPAAAAEAGfr3RCvwAGceTeVsoe+UAAAAAPAZ+xakK/AARXYjyXM+WTAAAAJUGbs0moQWiZTAh3//6plgACze7FzLLGFVeBTNcVPAok8Xm9sTsAAAAcQZvXSeEKUmUwIb/+p4QABY/kEf+WtSjQLdE2CQAAABBBn/VFNEwv/wADTKtG0n7dAAAADwGeFHRCvwAEdtGLgPz1wAAAABABnhZqQr8ABHZPnOtDDDvAAAAAGkGaGEmoQWiZTAh3//6plgACt/IM0AekvttRAAAAGkGaPEnhClJlMCHf/qmWAAK776vvRPxQTmfQAAAAFUGeWkU0TC//AATXHj6LFdvNfHkLZAAAABABnnl0Qr8ABsLKu5DZUq4xAAAAEAGee2pCvwAGmJbTrwBQjIAAAAAcQZpgSahBaJlMCHf//qmWAAKTpZygzQKfRj9P+wAAABBBnp5FESwv/wADECOM7oehAAAAEAGevXRCvwAEOEAc7Y41AaAAAAAPAZ6/akK/AAQYNYF1/lzBAAAAGUGapEmoQWyZTAh3//6plgACl88yIx0qx/0AAAAVQZ7CRRUsL/8ABNceOmcV1MvP+OK1AAAADwGe4XRCvwAGmks3Bsl6OQAAABABnuNqQr8ABpiW068AUIyAAAAAHEGa6EmoQWyZTAh3//6plgACt6WYtM0B3fRj2N8AAAASQZ8GRRUsL/8AAzitMwWi55s5AAAAEAGfJXRCvwAEOEAc7Y41AaAAAAAPAZ8nakK/AARXYjyXM+WTAAAAIkGbLEmoQWyZTAh3//6plgAEh+J5zLLPn1pMN0bbDzzZ4SAAAAAVQZ9KRRUsL/8ABWZ9e0MT92scwWGZAAAADwGfaXRCvwAEl8wYNmOLDQAAABABn2tqQr8AB0GYPJgevmKBAAAAE0GbcEmoQWyZTAh3//6plgAAlYEAAAAMQZ+ORRUsL/8AALKAAAAAEAGfrXRCvwALX0A5/WgcyCAAAAAQAZ+vakK/AAtcbXdZDDmQQQAAABNBm7RJqEFsmUwId//+qZYAAJWAAAAADEGf0kUVLC//AACygAAAABABn/F0Qr8AC19AOf1oHMghAAAADwGf82pCvwAHa5w0SueYkwAAABNBm/hJqEFsmUwId//+qZYAAJWBAAAADEGeFkUVLC//AACygAAAABABnjV0Qr8ABy1Dey6r+GpAAAAAEAGeN2pCvwALXG13WQw5kEEAAAATQZo8SahBbJlMCHf//qmWAACVgAAAAAxBnlpFFSwv/wAAsoAAAAAQAZ55dEK/AAtfQDn9aBzIIQAAABABnntqQr8AC1xtd1kMOZBAAAAAE0GaYEmoQWyZTAh3//6plgAAlYEAAAAMQZ6eRRUsL/8AALKBAAAAEAGevXRCvwALX0A5/WgcyCAAAAAQAZ6/akK/AAtcbXdZDDmQQQAAABNBmqRJqEFsmUwId//+qZYAAJWAAAAADEGewkUVLC//AACygQAAABABnuF0Qr8AC19AOf1oHMghAAAAEAGe42pCvwALXG13WQw5kEAAAAATQZroSahBbJlMCHf//qmWAACVgAAAAAxBnwZFFSwv/wAAsoEAAAAQAZ8ldEK/AAtfQDn9aBzIIAAAABABnydqQr8AC1xtd1kMOZBBAAAAE0GbLEmoQWyZTAh3//6plgAAlYAAAAAMQZ9KRRUsL/8AALKBAAAAEAGfaXRCvwALX0A5/WgcyCEAAAAPAZ9rakK/AActQ3YZ6tCbAAAAE0GbcEmoQWyZTAh3//6plgAAlYEAAAAMQZ+ORRUsL/8AALKAAAAAEAGfrXRCvwALX0A5/WgcyCAAAAAQAZ+vakK/AAtcbXdZDDmQQQAAABNBm7RJqEFsmUwId//+qZYAAJWAAAAADEGf0kUVLC//AACygAAAABABn/F0Qr8AC19AOf1oHMghAAAAEAGf82pCvwALXG13WQw5kEEAAAASQZv4SahBbJlMCG///qeEAAEnAAAADEGeFkUVLC//AACygAAAAA8BnjV0Qr8AB22wNDznmJMAAAAQAZ43akK/AAtcbXdZDDmQQQAAABpBmjlJqEFsmUwId//+qZYABvKkGaAPSX2UUAAAABtBml1J4QpSZTAh3/6plgAKlpZygzQKfRj9NKYAAAAQQZ57RTRML/8ADJCOM7lzoQAAABABnpp0Qr8AEWEAc7Y4021gAAAADwGenGpCvwAQ4NA8mCOugQAAABNBmoFJqEFomUwId//+qZYAAJWBAAAADEGev0URLC//AACygAAAAA8Bnt50Qr8AEKoeKNElfp0AAAAPAZ7AakK/ABCqHhzHWm9sAAAAE0GaxUmoQWyZTAh3//6plgAAlYEAAAAMQZ7jRRUsL/8AALKBAAAADwGfAnRCvwAQqh4o0SV+nAAAAA8BnwRqQr8AEKoeHMdab2wAAAAcQZsJSahBbJlMCHf//qmWAA+Y6hZCTc09GP0zbwAAABBBnydFFSwv/wAS3P3OFlg4AAAADwGfRnRCvwAQ20IDJLntgQAAABABn0hqQr8AGcduE3GfXqHMAAAAGUGbTUmoQWyZTAh3//6plgAPrxejE2Lkbs0AAAAQQZ9rRRUsL/8AEtoDl5Fg4QAAABABn4p0Qr8AGcAUzyvyU3OZAAAADwGfjGpCvwAQ4NA8mCOugQAAAB5Bm5FJqEFsmUwId//+qZYACqc8yO2nB0cfEDrXIvQAAAAVQZ+vRRUsL/8ADJCZkH0MU+iy2oswAAAAEAGfznRCvwAQ11aMkt/r94EAAAAQAZ/QakK/AA/jPmN0OSDppAAAABxBm9VJqEFsmUwId//+qZYADujqFkJNzT0Y/TOSAAAAEEGf80UVLC//ABHc/c4WWLkAAAAPAZ4SdEK/AA/hegMkufaBAAAAEAGeFGpCvwAYh24TcZ9eojkAAAAZQZoZSahBbJlMCHf//qmWAA7/F6MTYuRvHAAAABBBnjdFFSwv/wAR2gOXkWLgAAAAEAGeVnRCvwAZJ5N5Wyh6n8EAAAAPAZ5YakK/AA/lgS5X+E1AAAAAGkGaXUmoQWyZTAh3//6plgAO61QI/vq+7eOAAAAAEEGee0UVLC//ABHaA5eRYuEAAAAQAZ6adEK/ABiJNCJ8WYpEcAAAAA8BnpxqQr8AGSBY2BynZIEAAAATQZqBSahBbJlMCHf//qmWAACVgQAAAAxBnr9FFSwv/wAAsoAAAAAQAZ7edEK/ABknk3R23wtpgQAAAA8BnsBqQr8AGEK9zlI7m0wAAAAcQZrFSahBbJlMCHf//qmWAA7/F6MTQqBaKczOSQAAABBBnuNFFSwv/wAR3P3OFli5AAAADwGfAnRCvwAZJ5N55xdKgAAAABABnwRqQr8AGSZua48VbU/gAAAAE0GbCUmoQWyZTAh3//6plgAAlYEAAAAQQZ8nRRUsL/8AEd9BFjgLFwAAABABn0Z0Qr8AGIk0InxZikRxAAAAEAGfSGpCvwAZJm5rjxVtT+AAAAAZQZtNSahBbJlMCHf//qmWAA7q6ZH99X3bxwAAABBBn2tFFSwv/wAR2gOXkWLhAAAAEAGfinRCvwAYiTQifFmKRHEAAAAPAZ+MakK/ABkgWNgcp2SBAAAAE0GbkUmoQWyZTAh3//6plgAAlYAAAAAMQZ+vRRUsL/8AALKAAAAAEAGfznRCvwAZJ5N0dt8LaYEAAAAPAZ/QakK/ABkgWNErnl6VAAAAE0Gb1UmoQWyZTAh3//6plgAAlYAAAAAMQZ/zRRUsL/8AALKBAAAAEAGeEnRCvwAZJ5N0dt8LaYEAAAAPAZ4UakK/ABkgWNErnl6VAAAAE0GaGUmoQWyZTAh3//6plgAAlYAAAAAMQZ43RRUsL/8AALKAAAAADwGeVnRCvwAYQr4FsB+X7QAAAA8BnlhqQr8AGEK+BG6/wU4AAAAfQZpdSahBbJlMCHf//qmWAA7/F6MK/57vMss+faoFQAAAABVBnntFFSwv/wAR2gOVP6ZxhIVe3pkAAAAQAZ6adEK/ABknk3lbKHqfwAAAABABnpxqQr8AD+AvOdaGF8fBAAAAJEGagUmoQWyZTAh3//6plgAGW4vRhX8XWWWQ///CVUM3/+1jgQAAABBBnr9FFSwv/wAHbTo9FEIYAAAADwGe3nRCvwAKhaO884wugQAAABABnsBqQr8ACjtuRV4AoJ6AAAAAE0GaxUmoQWyZTAh3//6plgAAlYEAAAAMQZ7jRRUsL/8AALKBAAAADwGfAnRCvwAEV3HdHbfD8wAAAA8BnwRqQr8ABFXmiC1HmX4AAAAcQZsJSahBbJlMCHf//qmWAAKpzzIjGFQLRTmfxQAAABBBnydFFSwv/wADJKvG9hH4AAAADgGfRnRCvwAEV3Heeca/AAAAEAGfSGpCvwAEVzRvNMVblsAAAAAZQZtNSahBbJlMCHf//qmWAAKmE6R/fV95CwAAABBBn2tFFSwv/wADJCOM7oZhAAAAEAGfinRCvwAEWEAc7Y41AGEAAAAPAZ+MakK/AAaZK2MKzgJBAAAAE0GbkUmoQWyZTAh3//6plgAAlYAAAAAMQZ+vRRUsL/8AALKAAAAADwGfznRCvwAEV3HdHbfD8wAAABABn9BqQr8ABpkrYvV2HPRAAAAAE0Gb1UmoQWyZTAh3//6plgAAlYAAAAAMQZ/zRRUsL/8AALKBAAAADwGeEnRCvwAEV3HdHbfD8wAAABABnhRqQr8ABpkrYvV2HPRBAAAAE0GaGUmoQWyZTAh3//6plgAAlYAAAAAMQZ43RRUsL/8AALKAAAAADwGeVnRCvwAEV3HdHbfD8wAAAA8BnlhqQr8ABFXmiC1HmX4AAAATQZpdSahBbJlMCHf//qmWAACVgAAAAAxBnntFFSwv/wAAsoEAAAAQAZ6adEK/AAaayrur8d424AAAABABnpxqQr8ABpkrYvV2HPRBAAAAE0GagUmoQWyZTAh3//6plgAAlYEAAAAMQZ6/RRUsL/8AALKAAAAAEAGe3nRCvwAGmsq7q/HeNuEAAAAQAZ7AakK/AAaZK2L1dhz0QAAAABNBmsVJqEFsmUwId//+qZYAAJWBAAAADEGe40UVLC//AACygQAAABABnwJ0Qr8ABprKu6vx3jbgAAAADwGfBGpCvwAEVeaILUeZfgAAABNBmwlJqEFsmUwId//+qZYAAJWBAAAADEGfJ0UVLC//AACygAAAABABn0Z0Qr8ABprKu6vx3jbhAAAAEAGfSGpCvwAGmSti9XYc9EAAAAATQZtNSahBbJlMCHf//qmWAACVgQAAAAxBn2tFFSwv/wAAsoEAAAAQAZ+KdEK/AAaayrur8d424QAAABABn4xqQr8ABpkrYvV2HPRBAAAAHEGbkUmoQWyZTAh3//6plgACqc8yIomp1CDdihwAAAAVQZ+vRRUsL/8ABLcePosV2818eQuMAAAAEAGfznRCvwAGmsq7kNlSruEAAAAQAZ/QakK/AAZwltOvAFCRgAAAABNBm9VJqEFsmUwId//+qZYAAJWAAAAAEEGf80UVLC//AAMk5Ee/eLsAAAAQAZ4SdEK/AAQ3zVA6dqKigQAAABABnhRqQr8ABDZPnOtDDEFBAAAAEkGaGUmoQWyZTAhv//6nhAABJwAAAAxBnjdFFSwv/wAAsoAAAAAQAZ5WdEK/AAQYQBz+tA6ZQQAAABABnlhqQr8ABBbWu6yGHTKAAAAAEkGaXUmoQWyZTAhv//6nhAABJwAAAAxBnntFFSwv/wAAsoEAAAAQAZ6adEK/AAQYQBz+tA6ZQAAAABABnpxqQr8ABBbWu6yGHTKBAAAAGkGankmoQWyZTAhv//6nhAAFG9E/1W+Y/JJBAAAAGUGav0nhClJlMCHf/qmWAAKXzzCZZnz6BIAAAAAbQZrDSeEOiZTAh3/+qZYAAoXPMe2iGGcVqkCBAAAAEEGe4UURPC//AAL8qaAa+O4AAAAPAZ8AdEK/AAZKyru83gbBAAAADwGfAmpCvwAD+ApTNsyOuwAAAB9BmwdJqEFomUwId//+qZYABb/di5llnz7cq/55trvAAAAAFUGfJUURLC//AAbBV4xvcrkRdyoX6AAAABABn0R0Qr8ABiJFlXgRXoSBAAAAEAGfRmpCvwAJLtEJuM+vWCgAAAASQZtLSahBbJlMCG///qeEAAEnAAAADEGfaUUVLC//AACygAAAABABn4h0Qr8ADi2KxefwOXjBAAAAEAGfimpCvwAOKahz/Mt4WcEAAAAkQZuPSahBbJlMCG///qeEABDuGzX4hAD/+EqWPP//PfRV8jFxAAAAEEGfrUUVLC//AAo9AitKL/kAAAAPAZ/MdEK/AA4tisYQq6FAAAAAEAGfzmpCvwAOJzhr3mlZ98AAAAAaQZvQSahBbJlMCG///qeEABpaRP9VvmPxPmEAAAAbQZvxSeEKUmUwIb/+p4QAKN6J/qt9VBj/xKSAAAAAFkGaFUnhDomUwIb//qeEACo/Gn8Th4AAAAAOQZ4zRRE8L/8AGSEW9SEAAAAQAZ5SdEK/ACG7jvMEsbRo8QAAABABnlRqQr8AIa80TLoOnmbpAAAAJEGaWUmoQWiZTAhn//6eEACf/E78PTTeO+IP///4hCuC//jVsAAAABVBnndFESwv/wAYgRxjOPmG4bn9aZgAAAAQAZ6WdEK/ACCu1J5X5KbgsQAAABABnphqQr8AFia+c60ML21AAAABbWWIhAA7//72/PwKbVMJ3T//T/lcTdlCBNcwAC0xACIE2JSOvs+L8Cma2X/AoloCPV1f5P445+IF3tx/7df/mCBO9UW3/BhbaTqfxj9E/FAsBJO6fytb+a6jPkhvOZXUPj3hT7naeJU/MkybeqDWkZlQ+bb3Gnuxc1TjYfmzaGDgV1kGTAU8w8gs/fru3Ur+0KbxncH6ORRohZpO4D+nbMkt/gEJNLfxDXE2NZUlxAT7ps/6262aDVQ9hPlFh3Wvnbs1RDTWTu16lEMuLO2gblkL04g2xUyffT+El2XEk2QPHx3EBILOInRyKv5Ee+40dUAJbTaqO07ngjYJDXGCMf+sCi3JepPn9KhrNk7x1JKNovX0vqb3XGmhemXdDZBSxxy+l0CGSYcT7SiAxZgKAlmguEXJoDiJ1YpAucPoxZjq4zACskXJKTwgHAgVcSedPPfiaEThz8q7cvSBtKN05ahFQ8gRFUlidFlFgBTQAAAAE0GaIWiMEFAP5AP5Cv/+OEAAEXEAABnhbW9vdgAAAGxtdmhkAAAAAAAAAAAAAAAAAAAD6AAATnAAAQAAAQAAAAAAAAAAAAAAAAEAAAAAAAAAAAAAAAAAAAABAAAAAAAAAAAAAAAAAABAAAAAAAAAAAAAAAAAAAAAAAAAAAAAAAAAAAAAAAAAAgAAGQt0cmFrAAAAXHRraGQAAAADAAAAAAAAAAAAAAABAAAAAAAATnAAAAAAAAAAAAAAAAAAAAAAAAEAAAAAAAAAAAAAAAAAAAABAAAAAAAAAAAAAAAAAABAAAAAARAAAAEQAAAAAAAkZWR0cwAAABxlbHN0AAAAAAAAAAEAAE5wAAAEAAABAAAAABiDbWRpYQAAACBtZGhkAAAAAAAAAAAAAAAAAAAyAAAD7ABVxAAAAAAALWhkbHIAAAAAAAAAAHZpZGUAAAAAAAAAAAAAAABWaWRlb0hhbmRsZXIAAAAYLm1pbmYAAAAUdm1oZAAAAAEAAAAAAAAAAAAAACRkaW5mAAAAHGRyZWYAAAAAAAAAAQAAAAx1cmwgAAAAAQAAF+5zdGJsAAAAlnN0c2QAAAAAAAAAAQAAAIZhdmMxAAAAAAAAAAEAAAAAAAAAAAAAAAAAAAAAARABEABIAAAASAAAAAAAAAABAAAAAAAAAAAAAAAAAAAAAAAAAAAAAAAAAAAAAAAAAAAAGP//AAAAMGF2Y0MB9AAN/+EAF2f0AA2RmygiEdCAAAADAIAAABkHihTLAQAGaOvjxEhEAAAAGHN0dHMAAAAAAAAAAQAAAfYAAAIAAAAAHHN0c3MAAAAAAAAAAwAAAAEAAAD7AAAB9QAADwBjdHRzAAAAAAAAAd4AAAACAAAEAAAAAAEAAAoAAAAAAQAABAAAAAABAAAAAAAAAAEAAAIAAAAAAQAABAAAAAABAAAKAAAAAAEAAAQAAAAAAQAAAAAAAAABAAACAAAAAAQAAAQAAAAAAQAACgAAAAABAAAEAAAAAAEAAAAAAAAAAQAAAgAAAAABAAAEAAAAAAEAAAoAAAAAAQAABAAAAAABAAAAAAAAAAEAAAIAAAAAAQAACgAAAAABAAAEAAAAAAEAAAAAAAAAAQAAAgAAAAABAAAKAAAAAAEAAAQAAAAAAQAAAAAAAAABAAACAAAAAAEAAAoAAAAAAQAABAAAAAABAAAAAAAAAAEAAAIAAAAABgAABAAAAAABAAAKAAAAAAEAAAQAAAAAAQAAAAAAAAABAAACAAAAAAEAAAoAAAAAAQAABAAAAAABAAAAAAAAAAEAAAIAAAAAAQAACgAAAAABAAAEAAAAAAEAAAAAAAAAAQAAAgAAAAABAAAKAAAAAAEAAAQAAAAAAQAAAAAAAAABAAACAAAAAAEAAAoAAAAAAQAABAAAAAABAAAAAAAAAAEAAAIAAAAAAQAACgAAAAABAAAEAAAAAAEAAAAAAAAAAQAAAgAAAAABAAAKAAAAAAEAAAQAAAAAAQAAAAAAAAABAAACAAAAAAEAAAoAAAAAAQAABAAAAAABAAAAAAAAAAEAAAIAAAAAAQAACgAAAAABAAAEAAAAAAEAAAAAAAAAAQAAAgAAAAABAAAKAAAAAAEAAAQAAAAAAQAAAAAAAAABAAACAAAAAAEAAAoAAAAAAQAABAAAAAABAAAAAAAAAAEAAAIAAAAAAQAACgAAAAABAAAEAAAAAAEAAAAAAAAAAQAAAgAAAAABAAAKAAAAAAEAAAQAAAAAAQAAAAAAAAABAAACAAAAAAEAAAoAAAAAAQAABAAAAAABAAAAAAAAAAEAAAIAAAAAAQAACgAAAAABAAAEAAAAAAEAAAAAAAAAAQAAAgAAAAABAAAEAAAAAAEAAAoAAAAAAQAABAAAAAABAAAAAAAAAAEAAAIAAAAAAQAABAAAAAABAAAKAAAAAAEAAAQAAAAAAQAAAAAAAAABAAACAAAAAAMAAAQAAAAAAQAACgAAAAABAAAEAAAAAAEAAAAAAAAAAQAAAgAAAAABAAAKAAAAAAEAAAQAAAAAAQAAAAAAAAABAAACAAAAAAEAAAoAAAAAAQAABAAAAAABAAAAAAAAAAEAAAIAAAAAAQAACgAAAAABAAAEAAAAAAEAAAAAAAAAAQAAAgAAAAABAAAKAAAAAAEAAAQAAAAAAQAAAAAAAAABAAACAAAAAAEAAAoAAAAAAQAABAAAAAABAAAAAAAAAAEAAAIAAAAAAQAACgAAAAABAAAEAAAAAAEAAAAAAAAAAQAAAgAAAAABAAAKAAAAAAEAAAQAAAAAAQAAAAAAAAABAAACAAAAAAEAAAoAAAAAAQAABAAAAAABAAAAAAAAAAEAAAIAAAAAAQAACgAAAAABAAAEAAAAAAEAAAAAAAAAAQAAAgAAAAABAAAKAAAAAAEAAAQAAAAAAQAAAAAAAAABAAACAAAAAAEAAAoAAAAAAQAABAAAAAABAAAAAAAAAAEAAAIAAAAAAQAABAAAAAABAAAKAAAAAAEAAAQAAAAAAQAAAAAAAAABAAACAAAAAAMAAAQAAAAAAQAACgAAAAABAAAEAAAAAAEAAAAAAAAAAQAAAgAAAAACAAAEAAAAAAEAAAoAAAAAAQAABAAAAAABAAAAAAAAAAEAAAIAAAAAAwAABAAAAAABAAAKAAAAAAEAAAQAAAAAAQAAAAAAAAABAAACAAAAAAEAAAQAAAAAAQAACgAAAAABAAAEAAAAAAEAAAAAAAAAAQAAAgAAAAABAAAEAAAAAAEAAAoAAAAAAQAABAAAAAABAAAAAAAAAAEAAAIAAAAAAQAACgAAAAABAAAEAAAAAAEAAAAAAAAAAQAAAgAAAAABAAAKAAAAAAEAAAQAAAAAAQAAAAAAAAABAAACAAAAAAEAAAoAAAAAAQAABAAAAAABAAAAAAAAAAEAAAIAAAAAAQAACgAAAAABAAAEAAAAAAEAAAAAAAAAAQAAAgAAAAABAAAKAAAAAAEAAAQAAAAAAQAAAAAAAAABAAACAAAAAAEAAAoAAAAAAQAABAAAAAABAAAAAAAAAAEAAAIAAAAAAQAACgAAAAABAAAEAAAAAAEAAAAAAAAAAQAAAgAAAAABAAAKAAAAAAEAAAQAAAAAAQAAAAAAAAABAAACAAAAAAEAAAoAAAAAAQAABAAAAAABAAAAAAAAAAEAAAIAAAAAAQAACgAAAAABAAAEAAAAAAEAAAAAAAAAAQAAAgAAAAABAAAKAAAAAAEAAAQAAAAAAQAAAAAAAAABAAACAAAAAAEAAAoAAAAAAQAABAAAAAABAAAAAAAAAAEAAAIAAAAAAQAACgAAAAABAAAEAAAAAAEAAAAAAAAAAQAAAgAAAAAEAAAEAAAAAAEAAAoAAAAAAQAABAAAAAABAAAAAAAAAAEAAAIAAAAAAQAACgAAAAABAAAEAAAAAAEAAAAAAAAAAQAAAgAAAAADAAAEAAAAAAEAAAoAAAAAAQAABAAAAAABAAAAAAAAAAEAAAIAAAAAAQAABAAAAAABAAAKAAAAAAEAAAQAAAAAAQAAAAAAAAABAAACAAAAAAEAAAQAAAAAAQAACgAAAAABAAAEAAAAAAEAAAAAAAAAAQAAAgAAAAABAAAKAAAAAAEAAAQAAAAAAQAAAAAAAAABAAACAAAAAAEAAAoAAAAAAQAABAAAAAABAAAAAAAAAAEAAAIAAAAAAQAACgAAAAABAAAEAAAAAAEAAAAAAAAAAQAAAgAAAAABAAAKAAAAAAEAAAQAAAAAAQAAAAAAAAABAAACAAAAAAEAAAoAAAAAAQAABAAAAAABAAAAAAAAAAEAAAIAAAAAAQAACgAAAAABAAAEAAAAAAEAAAAAAAAAAQAAAgAAAAABAAAKAAAAAAEAAAQAAAAAAQAAAAAAAAABAAACAAAAAAEAAAoAAAAAAQAABAAAAAABAAAAAAAAAAEAAAIAAAAAAQAACgAAAAABAAAEAAAAAAEAAAAAAAAAAQAAAgAAAAABAAAKAAAAAAEAAAQAAAAAAQAAAAAAAAABAAACAAAAAAEAAAoAAAAAAQAABAAAAAABAAAAAAAAAAEAAAIAAAAAAQAACgAAAAABAAAEAAAAAAEAAAAAAAAAAQAAAgAAAAABAAAKAAAAAAEAAAQAAAAAAQAAAAAAAAABAAACAAAAAAEAAAoAAAAAAQAABAAAAAABAAAAAAAAAAEAAAIAAAAAAQAACgAAAAABAAAEAAAAAAEAAAAAAAAAAQAAAgAAAAABAAAEAAAAAAEAAAoAAAAAAQAABAAAAAABAAAAAAAAAAEAAAIAAAAAAQAACgAAAAABAAAEAAAAAAEAAAAAAAAAAQAAAgAAAAABAAAKAAAAAAEAAAQAAAAAAQAAAAAAAAABAAACAAAAAAEAAAoAAAAAAQAABAAAAAABAAAAAAAAAAEAAAIAAAAAAQAACgAAAAABAAAEAAAAAAEAAAAAAAAAAQAAAgAAAAABAAAKAAAAAAEAAAQAAAAAAQAAAAAAAAABAAACAAAAAAEAAAoAAAAAAQAABAAAAAABAAAAAAAAAAEAAAIAAAAAAQAACgAAAAABAAAEAAAAAAEAAAAAAAAAAQAAAgAAAAABAAAKAAAAAAEAAAQAAAAAAQAAAAAAAAABAAACAAAAAAEAAAoAAAAAAQAABAAAAAABAAAAAAAAAAEAAAIAAAAAAQAACgAAAAABAAAEAAAAAAEAAAAAAAAAAQAAAgAAAAABAAAKAAAAAAEAAAQAAAAAAQAAAAAAAAABAAACAAAAAAEAAAoAAAAAAQAABAAAAAABAAAAAAAAAAEAAAIAAAAAAQAACgAAAAABAAAEAAAAAAEAAAAAAAAAAQAAAgAAAAABAAAKAAAAAAEAAAQAAAAAAQAAAAAAAAABAAACAAAAAAEAAAoAAAAAAQAABAAAAAABAAAAAAAAAAEAAAIAAAAAAQAACgAAAAABAAAEAAAAAAEAAAAAAAAAAQAAAgAAAAABAAAKAAAAAAEAAAQAAAAAAQAAAAAAAAABAAACAAAAAAEAAAoAAAAAAQAABAAAAAABAAAAAAAAAAEAAAIAAAAAAQAACgAAAAABAAAEAAAAAAEAAAAAAAAAAQAAAgAAAAABAAAKAAAAAAEAAAQAAAAAAQAAAAAAAAABAAACAAAAAAEAAAoAAAAAAQAABAAAAAABAAAAAAAAAAEAAAIAAAAAAQAACgAAAAABAAAEAAAAAAEAAAAAAAAAAQAAAgAAAAABAAAKAAAAAAEAAAQAAAAAAQAAAAAAAAABAAACAAAAAAEAAAoAAAAAAQAABAAAAAABAAAAAAAAAAEAAAIAAAAAAQAACgAAAAABAAAEAAAAAAEAAAAAAAAAAQAAAgAAAAABAAAKAAAAAAEAAAQAAAAAAQAAAAAAAAABAAACAAAAAAEAAAoAAAAAAQAABAAAAAABAAAAAAAAAAEAAAIAAAAAAQAACgAAAAABAAAEAAAAAAEAAAAAAAAAAQAAAgAAAAABAAAKAAAAAAEAAAQAAAAAAQAAAAAAAAABAAACAAAAAAEAAAoAAAAAAQAABAAAAAABAAAAAAAAAAEAAAIAAAAAAQAACgAAAAABAAAEAAAAAAEAAAAAAAAAAQAAAgAAAAABAAAKAAAAAAEAAAQAAAAAAQAAAAAAAAABAAACAAAAAAIAAAQAAAAAAQAACgAAAAABAAAEAAAAAAEAAAAAAAAAAQAAAgAAAAABAAAKAAAAAAEAAAQAAAAAAQAAAAAAAAABAAACAAAAAAEAAAoAAAAAAQAABAAAAAABAAAAAAAAAAEAAAIAAAAAAQAACgAAAAABAAAEAAAAAAEAAAAAAAAAAQAAAgAAAAACAAAEAAAAAAEAAAoAAAAAAQAABAAAAAABAAAAAAAAAAEAAAIAAAAAAQAACgAAAAABAAAEAAAAAAEAAAAAAAAAAQAAAgAAAAACAAAEAAAAABxzdHNjAAAAAAAAAAEAAAABAAAB9gAAAAEAAAfsc3RzegAAAAAAAAAAAAAB9gAABZgAAAAZAAAAHwAAABMAAAATAAAAFAAAAB4AAAAsAAAAGgAAABQAAAAUAAAAHQAAABwAAAAdAAAAHQAAAC8AAAAYAAAAFAAAABQAAAAeAAAAHgAAABgAAAAUAAAAFAAAABsAAAAYAAAAFAAAABQAAAArAAAAGQAAABQAAAAUAAAAJwAAABoAAAAUAAAAFAAAACAAAAAbAAAAHAAAAB0AAAAcAAAAHAAAABoAAAAYAAAAFAAAABQAAAAXAAAAEAAAABQAAAAUAAAAFwAAABAAAAAUAAAAFAAAACMAAAAUAAAAEwAAABQAAAAfAAAAFAAAABMAAAAUAAAALQAAACgAAAATAAAAEwAAABwAAAASAAAAEwAAABQAAAAWAAAAEAAAABMAAAATAAAAFgAAABAAAAATAAAAEwAAABYAAAAQAAAAEwAAABMAAAAgAAAAFAAAABMAAAAUAAAAFgAAABAAAAATAAAAEwAAABYAAAAQAAAAEwAAABMAAAAWAAAAGAAAABQAAAAUAAAAFgAAABAAAAATAAAAEwAAAB4AAAAeAAAAFAAAABMAAAAUAAAAHgAAAB8AAAAUAAAAFAAAABMAAAAeAAAAHQAAABwAAAAfAAAAGQAAABQAAAAUAAAAIAAAABQAAAAUAAAAEwAAACEAAAAWAAAAFAAAABQAAAAdAAAAGQAAABQAAAAUAAAAFwAAABcAAAAUAAAAEwAAABcAAAAUAAAAFAAAABMAAAAXAAAAFAAAABQAAAATAAAAFwAAABQAAAAUAAAAEwAAAB0AAAAUAAAAFAAAABMAAAAXAAAAFAAAABQAAAAUAAAAFgAAABQAAAAUAAAAFAAAACEAAAAWAAAAFAAAABQAAAAeAAAAHQAAABQAAAAUAAAAEwAAAB0AAAAcAAAAHAAAACQAAAAYAAAAFAAAABQAAAAeAAAAHQAAAC0AAAAYAAAAFAAAABQAAAAdAAAAHAAAABwAAAAlAAAAGgAAABQAAAAUAAAAHgAAACwAAAAaAAAAFAAAABQAAAAeAAAAHwAAABgAAAAUAAAAFAAAACMAAAAZAAAAEwAAABQAAAAoAAAAGQAAABQAAAAUAAAAFwAAABAAAAATAAAAEwAAABcAAAAQAAAAEwAAABMAAAAXAAAAEAAAABMAAAATAAAAFwAAABAAAAATAAAAEwAAABcAAAAQAAAAEwAAABMAAAAWAAAAEAAAABMAAAATAAAAFgAAABAAAAATAAAAEwAAAB8AAAAUAAAAEwAAABMAAAAdAAAAFAAAABMAAAATAAAAFgAAABAAAAATAAAAEwAAAB8AAAAUAAAAEwAAABMAAAIMAAAAFwAAABwAAAAdAAAALQAAABgAAAAUAAAAFAAAACMAAAAVAAAAFAAAABMAAAAdAAAAGwAAAB0AAAAoAAAAGQAAABQAAAATAAAAKQAAACAAAAAUAAAAEwAAABQAAAAeAAAAHgAAABkAAAAUAAAAFAAAACAAAAAUAAAAFAAAABMAAAAdAAAAGQAAABMAAAAUAAAAIAAAABYAAAAUAAAAEwAAACYAAAAZAAAAEwAAABQAAAAXAAAAEAAAABQAAAAUAAAAFwAAABAAAAAUAAAAEwAAABcAAAAQAAAAFAAAABQAAAAXAAAAEAAAABQAAAAUAAAAFwAAABAAAAAUAAAAFAAAABcAAAAQAAAAFAAAABQAAAAXAAAAEAAAABQAAAAUAAAAFwAAABAAAAAUAAAAEwAAABcAAAAQAAAAFAAAABQAAAAXAAAAEAAAABQAAAAUAAAAFgAAABAAAAATAAAAFAAAAB4AAAAfAAAAFAAAABQAAAATAAAAFwAAABAAAAATAAAAEwAAABcAAAAQAAAAEwAAABMAAAAgAAAAFAAAABMAAAAUAAAAHQAAABQAAAAUAAAAEwAAACIAAAAZAAAAFAAAABQAAAAgAAAAFAAAABMAAAAUAAAAHQAAABQAAAAUAAAAEwAAAB4AAAAUAAAAFAAAABMAAAAXAAAAEAAAABQAAAATAAAAIAAAABQAAAATAAAAFAAAABcAAAAUAAAAFAAAABQAAAAdAAAAFAAAABQAAAATAAAAFwAAABAAAAAUAAAAEwAAABcAAAAQAAAAFAAAABMAAAAXAAAAEAAAABMAAAATAAAAIwAAABkAAAAUAAAAFAAAACgAAAAUAAAAEwAAABQAAAAXAAAAEAAAABMAAAATAAAAIAAAABQAAAASAAAAFAAAAB0AAAAUAAAAFAAAABMAAAAXAAAAEAAAABMAAAAUAAAAFwAAABAAAAATAAAAFAAAABcAAAAQAAAAEwAAABMAAAAXAAAAEAAAABQAAAAUAAAAFwAAABAAAAAUAAAAFAAAABcAAAAQAAAAFAAAABMAAAAXAAAAEAAAABQAAAAUAAAAFwAAABAAAAAUAAAAFAAAACAAAAAZAAAAFAAAABQAAAAXAAAAFAAAABQAAAAUAAAAFgAAABAAAAAUAAAAFAAAABYAAAAQAAAAFAAAABQAAAAeAAAAHQAAAB8AAAAUAAAAEwAAABMAAAAjAAAAGQAAABQAAAAUAAAAFgAAABAAAAAUAAAAFAAAACgAAAAUAAAAEwAAABQAAAAeAAAAHwAAABoAAAASAAAAFAAAABQAAAAoAAAAGQAAABQAAAAUAAABcQAAABcAAAAUc3RjbwAAAAAAAAABAAAAMAAAAGJ1ZHRhAAAAWm1ldGEAAAAAAAAAIWhkbHIAAAAAAAAAAG1kaXJhcHBsAAAAAAAAAAAAAAAALWlsc3QAAAAlqXRvbwAAAB1kYXRhAAAAAQAAAABMYXZmNTYuMzYuMTAw\" type=\"video/mp4\" />\n",
       "             </video>"
      ],
      "text/plain": [
       "<IPython.core.display.HTML object>"
      ]
     },
     "execution_count": 67,
     "metadata": {},
     "output_type": "execute_result"
    }
   ],
   "source": [
    "# Training\n",
    "epochs_train=11\n",
    "env = EnvironmentExploring(grid_size=size, max_time=T, temperature=0.3)\n",
    "agent = DQN_CNN(size, epsilon =0.6, memory_size=20000, batch_size = 32,n_state=3)\n",
    "train_explore(agent, env, epochs_train, prefix='cnn_train_explore')\n",
    "HTML(display_videos('cnn_train_explore10.mp4'))"
   ]
  },
  {
   "cell_type": "code",
   "execution_count": 68,
   "metadata": {
    "collapsed": false
   },
   "outputs": [
    {
     "name": "stdout",
     "output_type": "stream",
     "text": [
      "Win/lose count 20.0/6.0. Average score (14.0)\n",
      "Win/lose count 30.0/8.0. Average score (18.0)\n",
      "Win/lose count 22.5/9.0. Average score (16.5)\n",
      "Win/lose count 19.5/7.0. Average score (15.5)\n",
      "Win/lose count 23.5/13.0. Average score (14.5)\n",
      "Win/lose count 14.5/7.0. Average score (13.333333333333334)\n",
      "Win/lose count 20.5/14.0. Average score (12.357142857142858)\n",
      "Win/lose count 20.5/10.0. Average score (12.125)\n",
      "Win/lose count 20.0/6.0. Average score (12.333333333333334)\n",
      "Win/lose count 18.5/5.0. Average score (12.45)\n",
      "Win/lose count 26.5/7.0. Average score (13.090909090909092)\n",
      "Final score: 13.0909090909\n"
     ]
    },
    {
     "data": {
      "text/html": [
       "<video alt=\"test\" controls>\n",
       "                <source src=\"data:video/mp4;base64,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\" type=\"video/mp4\" />\n",
       "             </video>"
      ],
      "text/plain": [
       "<IPython.core.display.HTML object>"
      ]
     },
     "execution_count": 68,
     "metadata": {},
     "output_type": "execute_result"
    }
   ],
   "source": [
    "# Evaluation\n",
    "test(agent,env,epochs_test,prefix='cnn_test_explore')\n",
    "HTML(display_videos('cnn_test_explore10.mp4'))"
   ]
  },
  {
   "cell_type": "markdown",
   "metadata": {},
   "source": [
    "***\n",
    "***\n",
    "__BONUS question__ Use the expert DQN from the previous question to generate some winning games. Train a model that mimicks its behavior. Compare the performances."
   ]
  },
  {
   "cell_type": "markdown",
   "metadata": {},
   "source": []
  },
  {
   "cell_type": "markdown",
   "metadata": {},
   "source": [
    "***"
   ]
  }
 ],
 "metadata": {
  "anaconda-cloud": {},
  "kernelspec": {
   "display_name": "Python [Root]",
   "language": "python",
   "name": "Python [Root]"
  },
  "language_info": {
   "codemirror_mode": {
    "name": "ipython",
    "version": 3
   },
   "file_extension": ".py",
   "mimetype": "text/x-python",
   "name": "python",
   "nbconvert_exporter": "python",
   "pygments_lexer": "ipython3",
   "version": "3.5.2"
  }
 },
 "nbformat": 4,
 "nbformat_minor": 2
}
